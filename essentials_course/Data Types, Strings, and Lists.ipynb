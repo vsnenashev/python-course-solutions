{
 "cells": [
  {
   "cell_type": "markdown",
   "id": "e627eae6-2392-451d-a874-829663fea62b",
   "metadata": {},
   "source": [
    "# Data Types, Strings, and Lists"
   ]
  },
  {
   "cell_type": "markdown",
   "id": "9ba44704-e208-4b80-b00c-b3c210782e0e",
   "metadata": {},
   "source": [
    "## Numeric data types: int, float"
   ]
  },
  {
   "cell_type": "markdown",
   "id": "08201583-b2e0-45f6-be9c-de7944cf3793",
   "metadata": {},
   "source": [
    "Ordering 3 given numbers from largest to smallest  "
   ]
  },
  {
   "cell_type": "code",
   "execution_count": 1,
   "id": "727202a5-d297-4d0e-a268-049bbf7ec630",
   "metadata": {},
   "outputs": [
    {
     "name": "stdin",
     "output_type": "stream",
     "text": [
      " 1\n",
      " 2\n",
      " 3\n"
     ]
    },
    {
     "name": "stdout",
     "output_type": "stream",
     "text": [
      "3\n",
      "2\n",
      "1\n"
     ]
    }
   ],
   "source": [
    "a, b, c = int(input()), int(input()),  int(input())\n",
    "\n",
    "max = max(a, b, c)\n",
    "min = min(a, b, c)\n",
    "\n",
    "print(max)\n",
    "print(a + b + c - max - min)\n",
    "print(min)"
   ]
  },
  {
   "cell_type": "markdown",
   "id": "2c4e411c-bca8-423f-820c-4564a26948f1",
   "metadata": {},
   "source": [
    "Determining the Manhattan distance between two points with given coordinates."
   ]
  },
  {
   "cell_type": "code",
   "execution_count": 29,
   "id": "11ebfdbe-5d84-41a7-831c-8782e2670b57",
   "metadata": {},
   "outputs": [
    {
     "name": "stdin",
     "output_type": "stream",
     "text": [
      " 1\n",
      " 2\n",
      " 3\n",
      " 4\n"
     ]
    },
    {
     "name": "stdout",
     "output_type": "stream",
     "text": [
      "4\n"
     ]
    }
   ],
   "source": [
    "a, b, c, d = int(input()), int(input()),  int(input()), int(input())\n",
    "print(abs(a - c) + abs(b - d))"
   ]
  },
  {
   "cell_type": "markdown",
   "id": "9ce0ab9d-10d0-4ce5-b5d1-eee69f221535",
   "metadata": {},
   "source": [
    "## Math module\n"
   ]
  },
  {
   "cell_type": "markdown",
   "id": "8888bce5-7662-41d3-b586-418a20d64b29",
   "metadata": {},
   "source": [
    "Calculating arithmetic mean, geometric mean, harmonic and quadratic.\n"
   ]
  },
  {
   "cell_type": "code",
   "execution_count": 2,
   "id": "d189be3e-2a0b-47b1-90e9-6cc916ef451b",
   "metadata": {},
   "outputs": [
    {
     "name": "stdin",
     "output_type": "stream",
     "text": [
      " 2\n",
      " 6\n"
     ]
    },
    {
     "name": "stdout",
     "output_type": "stream",
     "text": [
      "4.0\n",
      "3.4641016151377544\n",
      "3.0\n",
      "4.47213595499958\n"
     ]
    }
   ],
   "source": [
    "from math import *\n",
    "\n",
    "a, b = float(input()), float(input())\n",
    "\n",
    "sra = (a + b) / 2\n",
    "srge = sqrt(a * b)\n",
    "srga = 2 * a * b / (a + b)\n",
    "srk = sqrt((a ** 2 + b ** 2) / 2)\n",
    "\n",
    "print(sra, srge, srga, srk, sep=\"\\n\")"
   ]
  },
  {
   "cell_type": "markdown",
   "id": "0432d9b8-6e7f-421a-9a58-2121b54cd81c",
   "metadata": {},
   "source": [
    "Finding the real roots of a quadratic equation, three real numbers are given.\n",
    "*If an equation has two roots, then they should be derived in ascending order."
   ]
  },
  {
   "cell_type": "code",
   "execution_count": 3,
   "id": "7b9db581-abc6-4880-adc9-63ab747cdede",
   "metadata": {},
   "outputs": [
    {
     "name": "stdin",
     "output_type": "stream",
     "text": [
      " 1\n",
      " 2\n",
      " 1\n"
     ]
    },
    {
     "name": "stdout",
     "output_type": "stream",
     "text": [
      "-1.0\n"
     ]
    }
   ],
   "source": [
    "from math import *\n",
    "\n",
    "a, b, c = float(input()), float(input()), float(input())\n",
    "d = b ** 2 - 4 * a * c\n",
    "\n",
    "if d < 0:\n",
    "    print(\"No roots\")\n",
    "elif d == 0:\n",
    "    x = - b / (2 * a)\n",
    "    print(x)\n",
    "else:\n",
    "    x1 = (- b + sqrt(d)) / (2 * a)\n",
    "    x2 = (- b - sqrt(d)) / (2 * a)\n",
    "    print(min(x1, x2))\n",
    "    print(max(x1, x2))"
   ]
  },
  {
   "cell_type": "markdown",
   "id": "dec60617-a68d-41de-8d98-60f4e0971327",
   "metadata": {},
   "source": [
    "# String data type"
   ]
  },
  {
   "cell_type": "markdown",
   "id": "eb06b3ba-3d5f-433a-a8eb-84e09970d8f2",
   "metadata": {},
   "source": [
    "## Indexing. Problems"
   ]
  },
  {
   "cell_type": "markdown",
   "id": "522f45f9-22d5-419f-a218-ec42b2dfca93",
   "metadata": {},
   "source": [
    "7. One line is given as input to the program. Write a program that prints the message \"Number\" (without quotes) if a string contains a number. Otherwise, display the message “No numbers” (without quotes)."
   ]
  },
  {
   "cell_type": "code",
   "execution_count": 4,
   "id": "d7eb89c7-14a4-4b99-8340-e898e0cb9ceb",
   "metadata": {},
   "outputs": [
    {
     "name": "stdin",
     "output_type": "stream",
     "text": [
      " dhhwkqd792hdsone\n"
     ]
    },
    {
     "name": "stdout",
     "output_type": "stream",
     "text": [
      "Number\n"
     ]
    }
   ],
   "source": [
    "str = input()\n",
    "\n",
    "flag = True\n",
    "digit = \"0123456789\"\n",
    "\n",
    "for i in digit:\n",
    "    if i in str:\n",
    "        print(\"Number\")\n",
    "        flag = False\n",
    "        break\n",
    "        \n",
    "if flag == True:\n",
    "    print(\"No numbers\")"
   ]
  },
  {
   "cell_type": "markdown",
   "id": "2cb9f780-1e85-4ba8-9d0b-a29dbf569bbe",
   "metadata": {},
   "source": [
    "9. The program is given a single string. Write a program that determines how many identical adjacent characters it contains."
   ]
  },
  {
   "cell_type": "code",
   "execution_count": 5,
   "id": "27e96f7d-edbf-43cd-bfd4-6d60aa06b901",
   "metadata": {},
   "outputs": [
    {
     "name": "stdin",
     "output_type": "stream",
     "text": [
      " sdsdfdsfnksdnfcksdfjsdijfvdddddoodvj\n"
     ]
    },
    {
     "name": "stdout",
     "output_type": "stream",
     "text": [
      "5\n"
     ]
    }
   ],
   "source": [
    "str = input()\n",
    "cnt = 0\n",
    "\n",
    "for i in range(len(str) - 1):\n",
    "    if str[i] == str[i + 1]:\n",
    "        cnt += 1\n",
    "        \n",
    "print(cnt)"
   ]
  },
  {
   "cell_type": "markdown",
   "id": "bfcf58b8-42ac-4a07-a14c-53f3f3da439b",
   "metadata": {},
   "source": [
    "11. The program is given a natural number written in the decimal number system. Write a program that converts the given number to the binary number system."
   ]
  },
  {
   "cell_type": "code",
   "execution_count": 62,
   "id": "63394323-b7da-4214-b03b-8d1b27bcc701",
   "metadata": {},
   "outputs": [
    {
     "name": "stdin",
     "output_type": "stream",
     "text": [
      " 4587\n"
     ]
    },
    {
     "name": "stdout",
     "output_type": "stream",
     "text": [
      "1000111101011\n"
     ]
    }
   ],
   "source": [
    "n = int(input())\n",
    "\n",
    "bin = 0\n",
    "cnt = 0\n",
    "\n",
    "while n > 0:\n",
    "    dig = n % 2\n",
    "    bin += dig * (10 ** cnt)\n",
    "    cnt += 1\n",
    "    n //= 2\n",
    "    \n",
    "print(bin)"
   ]
  },
  {
   "cell_type": "markdown",
   "id": "4e1fbd4d-3d72-45b5-abff-80feb6d7757b",
   "metadata": {},
   "source": [
    "## Slices. Problems"
   ]
  },
  {
   "cell_type": "markdown",
   "id": "8e89da1d-3ae7-4ee2-a967-f6bdd627f853",
   "metadata": {},
   "source": [
    "5. The input to the program is one word, written in lower case. Write a program that determines whether it is a palindrome."
   ]
  },
  {
   "cell_type": "code",
   "execution_count": 63,
   "id": "32c7c26c-ae41-4d65-bff0-a84a8fcf3448",
   "metadata": {},
   "outputs": [
    {
     "name": "stdin",
     "output_type": "stream",
     "text": [
      " kjfgfkdfk\n"
     ]
    },
    {
     "name": "stdout",
     "output_type": "stream",
     "text": [
      "NO\n"
     ]
    }
   ],
   "source": [
    "n = input()\n",
    "\n",
    "if n == n[::-1]:\n",
    "    print(\"YES\")\n",
    "else:\n",
    "    print(\"NO\")"
   ]
  },
  {
   "cell_type": "markdown",
   "id": "5e4ec854-e070-4f49-9989-3c710fac4236",
   "metadata": {},
   "source": [
    "8. A line of text is given as input to the program. Write a program that will cut it into two equal parts, rearrange them and display them on the screen."
   ]
  },
  {
   "cell_type": "code",
   "execution_count": 64,
   "id": "f39a40e5-4a69-4cff-9793-bd72c3a4aa5a",
   "metadata": {},
   "outputs": [
    {
     "name": "stdin",
     "output_type": "stream",
     "text": [
      " dgsdvsdgsd\n"
     ]
    },
    {
     "name": "stdout",
     "output_type": "stream",
     "text": [
      "sdgsddgsdv\n"
     ]
    }
   ],
   "source": [
    "n = input()\n",
    "i = - (- len(n) // 2)\n",
    "print(n[i:] + n[: i])"
   ]
  },
  {
   "cell_type": "markdown",
   "id": "b6e583e1-a27f-48f8-bd09-77d4a1f61922",
   "metadata": {},
   "source": [
    "## String methods. Problems"
   ]
  },
  {
   "cell_type": "markdown",
   "id": "04b9b656-5cda-4959-8e07-98fff789ffb8",
   "metadata": {},
   "source": [
    "6. A line of text is given as input to the program. Write a program that displays the symbol that appears most frequently."
   ]
  },
  {
   "cell_type": "code",
   "execution_count": 8,
   "id": "26c98de4-2c42-4ad2-bd38-208297bfddf9",
   "metadata": {},
   "outputs": [
    {
     "name": "stdin",
     "output_type": "stream",
     "text": [
      " dhfjemsnbdcvgfejwk,masnxbchfdk,s\n"
     ]
    },
    {
     "name": "stdout",
     "output_type": "stream",
     "text": [
      "s\n"
     ]
    }
   ],
   "source": [
    "n = input()\n",
    "\n",
    "cnt = 0\n",
    "mx = \"\"\n",
    "\n",
    "for c in n:\n",
    "    if n.count(c) >= cnt:\n",
    "        cnt = n.count(c)\n",
    "        mx = c\n",
    "        \n",
    "print(mx)"
   ]
  },
  {
   "cell_type": "markdown",
   "id": "92a73b17-1398-4c69-a7e1-a760df434d0c",
   "metadata": {},
   "source": [
    "## Strings in computer memory, Unicode character table"
   ]
  },
  {
   "cell_type": "markdown",
   "id": "4c42ed39-a07f-4d06-a5d3-08059c349986",
   "metadata": {},
   "source": [
    "5. Write a program to decode this cipher. The first line gives the number n (1≤ n≤ 25) – shift, the second line gives the encoded message in the form of a string with lowercase Latin letters."
   ]
  },
  {
   "cell_type": "code",
   "execution_count": 9,
   "id": "def59f28-b351-4fca-b991-d1dd65fd51bb",
   "metadata": {},
   "outputs": [
    {
     "name": "stdin",
     "output_type": "stream",
     "text": [
      " 5\n",
      " fkfkfkfkf\n"
     ]
    },
    {
     "name": "stdout",
     "output_type": "stream",
     "text": [
      "afafafafa\n"
     ]
    }
   ],
   "source": [
    "n = int(input())\n",
    "str = input()\n",
    "str2 = \"\"\n",
    "\n",
    "for c in str:\n",
    "    c2 = (ord(c) - n - 97) % 26 + 97\n",
    "    str2 += chr(c2)\n",
    "\n",
    "print(str2)"
   ]
  },
  {
   "cell_type": "markdown",
   "id": "6a26dd40-1f5c-49d9-be7c-48cfe62854c0",
   "metadata": {},
   "source": [
    "# Lists"
   ]
  },
  {
   "cell_type": "markdown",
   "id": "9b1073be-3b28-4d88-b877-db80729ee904",
   "metadata": {},
   "source": [
    "## Lists' methods"
   ]
  },
  {
   "cell_type": "markdown",
   "id": "eb834dfd-4c31-49e7-8af9-b861a4ae27af",
   "metadata": {},
   "source": [
    "List of divisors"
   ]
  },
  {
   "cell_type": "code",
   "execution_count": 10,
   "id": "6879a4c8-5f32-42d7-893d-0d1179f4e5d6",
   "metadata": {},
   "outputs": [
    {
     "name": "stdin",
     "output_type": "stream",
     "text": [
      " 56\n"
     ]
    },
    {
     "name": "stdout",
     "output_type": "stream",
     "text": [
      "[1, 2, 4, 7, 8, 14, 28, 56]\n"
     ]
    }
   ],
   "source": [
    "n = int(input())\n",
    "deli = list()\n",
    "\n",
    "for i in range(1, n + 1):\n",
    "    if n % i == 0:\n",
    "        deli.append(i)\n",
    "        \n",
    "print(deli)"
   ]
  },
  {
   "cell_type": "markdown",
   "id": "7b79b222-bf27-4bc1-9141-1e6cb325df71",
   "metadata": {},
   "source": [
    "8. The input to the program is a natural number n and n strings, and then the number k. Write a program that prints the kth letter of the input strings on one line without spaces."
   ]
  },
  {
   "cell_type": "code",
   "execution_count": 11,
   "id": "e356a3f4-8dcb-4c37-9a63-b6e490432be1",
   "metadata": {},
   "outputs": [
    {
     "name": "stdin",
     "output_type": "stream",
     "text": [
      " 3\n",
      " dghdjdmcnfbhe\n",
      " skkdkkf\n",
      " dbfhje\n",
      " 8\n"
     ]
    },
    {
     "name": "stdout",
     "output_type": "stream",
     "text": [
      "c\n"
     ]
    }
   ],
   "source": [
    "n = int(input())\n",
    "\n",
    "str1 = []\n",
    "str2 = []\n",
    "str3 = \"\"\n",
    "\n",
    "for i in range(n):\n",
    "    str1.append(input())\n",
    "k = int(input())\n",
    "\n",
    "for j in range(n):\n",
    "    if len(str1[j]) >= k:\n",
    "        str2.append(str1[j])\n",
    "\n",
    "for l in range(len(str2)):\n",
    "    str3 += str2[l][k - 1]\n",
    "\n",
    "print(str3)"
   ]
  },
  {
   "cell_type": "markdown",
   "id": "c3f0f2ca-3b3e-4973-9628-1a140a09db8f",
   "metadata": {},
   "source": [
    "## Displaying list elements"
   ]
  },
  {
   "cell_type": "markdown",
   "id": "9edc49f6-a10f-4690-b147-bcba8d5bef6a",
   "metadata": {},
   "source": [
    "5. The input to the program is a natural number n, then n lines, then another line - a search query. Write a program that prints all entered lines that contain a search term."
   ]
  },
  {
   "cell_type": "code",
   "execution_count": 12,
   "id": "717907bc-1c12-4e64-ab12-2390a79f0a6e",
   "metadata": {},
   "outputs": [
    {
     "name": "stdin",
     "output_type": "stream",
     "text": [
      " 4\n",
      " fdksl\n",
      " fdnsm\n",
      " blvcd\n",
      " sxcv\n",
      " ks\n"
     ]
    },
    {
     "name": "stdout",
     "output_type": "stream",
     "text": [
      "fdksl\n"
     ]
    }
   ],
   "source": [
    "n = int(input())\n",
    "sp = []\n",
    "sp1 = []\n",
    "sp2 = []\n",
    "\n",
    "for i in range(n):\n",
    "    x = input()\n",
    "    sp2.append(x)\n",
    "    sp.append(x.lower())\n",
    "    \n",
    "#print(sp2)\n",
    "#print(sp)\n",
    "\n",
    "ser = input()\n",
    "ser = ser.lower()\n",
    "\n",
    "#print(ser.lower())\n",
    "\n",
    "for j in range(n):\n",
    "    if ser in sp[j]:\n",
    "        sp1.append(sp2[j])\n",
    "        \n",
    "print(*sp1, sep=\"\\n\")"
   ]
  },
  {
   "cell_type": "markdown",
   "id": "fde5d962-75b1-4fe9-9f7a-5b27c7cd9dce",
   "metadata": {},
   "source": [
    "6. The input to the program is a natural number n, then n lines, then number k - the number of search queries, then k lines - search queries. Write a program that prints all the entered strings that contain all the search terms at the same time."
   ]
  },
  {
   "cell_type": "code",
   "execution_count": 14,
   "id": "416bf2bb-21af-48ab-853b-0a9610b00198",
   "metadata": {},
   "outputs": [
    {
     "name": "stdin",
     "output_type": "stream",
     "text": [
      " 3\n",
      " vsvbnxc,mfndevshjx\n",
      " sxnbvgxhsjka\n",
      " asxcdewazx\n",
      " 2\n",
      " fc\n",
      " vs\n"
     ]
    }
   ],
   "source": [
    "n = int(input())\n",
    "vyd = []\n",
    "zap = []\n",
    "\n",
    "for i in range(n):\n",
    "    s = input()\n",
    "    vyd.append(s)\n",
    "    \n",
    "k = int(input())\n",
    "\n",
    "for j in range(k):\n",
    "    t = input()\n",
    "    zap.append(t)\n",
    "    \n",
    "for s in vyd:\n",
    "    #print(\"___\", s)\n",
    "    flag = True\n",
    "    \n",
    "    for t in zap:\n",
    "        #print(t)\n",
    "        if t.lower() not in s.lower():\n",
    "            flag = False\n",
    "            \n",
    "    if flag == True:\n",
    "        print(s)"
   ]
  },
  {
   "cell_type": "markdown",
   "id": "eb6f25d1-36eb-43bc-b262-bffe2cb6019f",
   "metadata": {},
   "source": [
    "## String Methods: split, join"
   ]
  },
  {
   "cell_type": "markdown",
   "id": "dd424b54-7baa-489e-ab4b-2339132c2ee9",
   "metadata": {},
   "source": [
    "Input to the program is a string of text containing 4 non-negative integers separated by dots, the program determines whether the entered string of text is a valid IP address."
   ]
  },
  {
   "cell_type": "code",
   "execution_count": 17,
   "id": "2d42c351-7aab-4fc0-b78c-a49d9ca68523",
   "metadata": {},
   "outputs": [
    {
     "name": "stdin",
     "output_type": "stream",
     "text": [
      " 322.45.32.1\n"
     ]
    },
    {
     "name": "stdout",
     "output_type": "stream",
     "text": [
      "NO\n"
     ]
    }
   ],
   "source": [
    "n = input().split('.')\n",
    "flag = True\n",
    "\n",
    "for i in range(len(n)):\n",
    "    if int(n[i]) > 255:\n",
    "        flag = False\n",
    "if flag:\n",
    "    print(\"YES\")\n",
    "else:\n",
    "    print(\"NO\")"
   ]
  },
  {
   "cell_type": "markdown",
   "id": "ae7cd423-cd6c-4e2c-a5a7-57427e9804f7",
   "metadata": {},
   "source": [
    "# List Comprehensions"
   ]
  },
  {
   "cell_type": "markdown",
   "id": "82cf1a3d-1a4f-4068-a43a-96aa1a7ddfc7",
   "metadata": {},
   "source": [
    "From a given string of text containing integers, the program outputs the squares of even numbers that do not end with the digit 4."
   ]
  },
  {
   "cell_type": "code",
   "execution_count": 22,
   "id": "50474438-96d7-4ce5-affc-afd69c37c99f",
   "metadata": {},
   "outputs": [
    {
     "name": "stdin",
     "output_type": "stream",
     "text": [
      " 13,7,5,1\n"
     ]
    },
    {
     "name": "stdout",
     "output_type": "stream",
     "text": [
      "\n"
     ]
    }
   ],
   "source": [
    "print(*[int(i) ** 2 for i in input().split(',') if (int(i) % 2 == 0) and ((int(i) ** 2) % 10 != 4)])"
   ]
  }
 ],
 "metadata": {
  "kernelspec": {
   "display_name": "Python 3 (ipykernel)",
   "language": "python",
   "name": "python3"
  },
  "language_info": {
   "codemirror_mode": {
    "name": "ipython",
    "version": 3
   },
   "file_extension": ".py",
   "mimetype": "text/x-python",
   "name": "python",
   "nbconvert_exporter": "python",
   "pygments_lexer": "ipython3",
   "version": "3.10.13"
  }
 },
 "nbformat": 4,
 "nbformat_minor": 5
}
