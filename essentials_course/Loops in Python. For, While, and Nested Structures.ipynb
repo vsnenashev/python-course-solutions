{
 "cells": [
  {
   "cell_type": "markdown",
   "id": "829488ab-69b0-442a-a78f-4a5395390e1b",
   "metadata": {},
   "source": [
    "# For, While, and Nested Loops"
   ]
  },
  {
   "cell_type": "markdown",
   "id": "5704cd06-994b-49a8-aeca-2579773f19db",
   "metadata": {},
   "source": [
    "## 'For' Loop"
   ]
  },
  {
   "cell_type": "markdown",
   "id": "7595ffcc-71dc-4aa5-8882-478976373116",
   "metadata": {},
   "source": [
    "8. The program predicts the population size of organisms from day 1 to day n (inclusive). The program outputs the day number, followed by the population size on that day, separated by a space."
   ]
  },
  {
   "cell_type": "code",
   "execution_count": 1,
   "id": "2d976305-571f-4e30-b3ec-310fe8ab7ae3",
   "metadata": {
    "collapsed": true,
    "jupyter": {
     "outputs_hidden": true
    }
   },
   "outputs": [
    {
     "name": "stdin",
     "output_type": "stream",
     "text": [
      " 1\n",
      " 2\n",
      " 3\n"
     ]
    },
    {
     "name": "stdout",
     "output_type": "stream",
     "text": [
      "1 1\n",
      "2 1.02\n",
      "3 1.0404\n"
     ]
    }
   ],
   "source": [
    "m, p, n = int(input()), int(input()), int(input())\n",
    "\n",
    "for i in range(n):\n",
    "    print(i + 1, m)\n",
    "    m = m * (1 + p / 100)"
   ]
  },
  {
   "cell_type": "markdown",
   "id": "6ea8cbf9-82c7-46aa-9471-415942524d8c",
   "metadata": {},
   "source": [
    "## 'For' Loop: function 'range'"
   ]
  },
  {
   "cell_type": "markdown",
   "id": "d2e06f1a-86d9-47e0-aff6-93f7dad4fa54",
   "metadata": {},
   "source": [
    "Given two integers m and n, the program outputs all integers from m to n inclusive in ascending order if m < n, or in descending order otherwise."
   ]
  },
  {
   "cell_type": "code",
   "execution_count": 40,
   "id": "7d2248fe-e309-4311-8f56-97529e20579b",
   "metadata": {},
   "outputs": [
    {
     "name": "stdin",
     "output_type": "stream",
     "text": [
      " 1\n",
      " 2\n"
     ]
    },
    {
     "name": "stdout",
     "output_type": "stream",
     "text": [
      "1\n",
      "2\n"
     ]
    }
   ],
   "source": [
    "m, n = int(input()), int(input())\n",
    "\n",
    "if m < n:\n",
    "    for i in range(m, n + 1):\n",
    "        print(i)\n",
    "else:\n",
    "    for k in range(m, n - 1, -1):\n",
    "        print(k)"
   ]
  },
  {
   "cell_type": "markdown",
   "id": "7519335b-007b-48b0-b35c-1573a2d83fe4",
   "metadata": {},
   "source": [
    "Given two integers m and n, the program outputs all odd integers from m to n inclusive in descending order."
   ]
  },
  {
   "cell_type": "code",
   "execution_count": 44,
   "id": "7b0ca82a-c391-4995-899d-1f669fefcdd2",
   "metadata": {},
   "outputs": [
    {
     "name": "stdin",
     "output_type": "stream",
     "text": [
      " 5\n",
      " 13\n"
     ]
    }
   ],
   "source": [
    "m, n = int(input()), int(input())\n",
    "\n",
    "start = ((m - 1) // 2) * 2 + 1\n",
    "\n",
    "for i in range(start, n - 1, -2):\n",
    "    print(i)"
   ]
  },
  {
   "cell_type": "markdown",
   "id": "863b6e8f-a903-4715-8c59-4242e7fd88a8",
   "metadata": {},
   "source": [
    "## Common scenarios"
   ]
  },
  {
   "cell_type": "markdown",
   "id": "cdfcc587-ec4f-4d91-b669-0f7b96367be8",
   "metadata": {},
   "source": [
    "Calculating n! (n factorial) "
   ]
  },
  {
   "cell_type": "code",
   "execution_count": 3,
   "id": "9fc20868-6f3a-4ad5-a8e1-8b7152274120",
   "metadata": {},
   "outputs": [
    {
     "name": "stdin",
     "output_type": "stream",
     "text": [
      " 9\n"
     ]
    },
    {
     "name": "stdout",
     "output_type": "stream",
     "text": [
      "362880\n"
     ]
    }
   ],
   "source": [
    "n = int(input())\n",
    "\n",
    "fact = 1\n",
    "for i in range(1, n + 1):\n",
    "    fact *= i\n",
    "\n",
    "print(fact)"
   ]
  },
  {
   "cell_type": "markdown",
   "id": "4525b963-cc55-4ac4-8954-1e379b650ed2",
   "metadata": {},
   "source": [
    "Calculating the sum of all divisors of a number"
   ]
  },
  {
   "cell_type": "code",
   "execution_count": 4,
   "id": "ebfebab7-ed46-4acf-8469-6510208c8cb9",
   "metadata": {},
   "outputs": [
    {
     "name": "stdin",
     "output_type": "stream",
     "text": [
      " 9\n"
     ]
    },
    {
     "name": "stdout",
     "output_type": "stream",
     "text": [
      "13\n"
     ]
    }
   ],
   "source": [
    "n = int(input())\n",
    "\n",
    "fact = 0\n",
    "for i in range(1, n + 1):\n",
    "    if n % i == 0:\n",
    "        fact += i\n",
    "        \n",
    "print(fact)"
   ]
  },
  {
   "cell_type": "markdown",
   "id": "76a35d29-b761-42c4-aba5-ce29a3b85915",
   "metadata": {},
   "source": [
    "The program takes a natural number n as input, followed by n distinct natural numbers of a sequence, each on a separate line. It then outputs the largest and second largest numbers in the sequence."
   ]
  },
  {
   "cell_type": "code",
   "execution_count": 5,
   "id": "0763c2da-e40f-4051-a6fb-93a577939f5a",
   "metadata": {},
   "outputs": [
    {
     "name": "stdin",
     "output_type": "stream",
     "text": [
      " 3\n",
      " 1\n",
      " 2\n",
      " 9\n"
     ]
    },
    {
     "name": "stdout",
     "output_type": "stream",
     "text": [
      "9\n",
      "2\n"
     ]
    }
   ],
   "source": [
    "n = int(input())\n",
    "\n",
    "mx, mx2 = -1, -1\n",
    "\n",
    "for i in range(1, n + 1):\n",
    "    m = int(input())\n",
    "    \n",
    "    if m > mx:\n",
    "        mx2 = mx\n",
    "        mx = m\n",
    "    elif mx2 < m < mx:\n",
    "        mx2 = m\n",
    "        \n",
    "print(mx)\n",
    "print(mx2)"
   ]
  },
  {
   "cell_type": "markdown",
   "id": "ab276109-fc29-41ff-86d0-ee560dfbef5a",
   "metadata": {},
   "source": [
    "The program reads a sequence of 10 integers and determines whether each of them is even or not."
   ]
  },
  {
   "cell_type": "code",
   "execution_count": 6,
   "id": "79f822a0-81de-4133-995a-c883bafa4ec1",
   "metadata": {
    "collapsed": true,
    "jupyter": {
     "outputs_hidden": true
    }
   },
   "outputs": [
    {
     "name": "stdin",
     "output_type": "stream",
     "text": [
      " 5\n",
      " 6\n",
      " 6\n",
      " 6\n",
      " 7\n",
      " 4\n",
      " 2\n",
      " 3\n",
      " 3\n",
      " 32\n"
     ]
    },
    {
     "name": "stdout",
     "output_type": "stream",
     "text": [
      "NO\n"
     ]
    }
   ],
   "source": [
    "count = 0\n",
    "\n",
    "for i in range(10):\n",
    "    n = int(input())\n",
    "    if n % 2 == 0:\n",
    "        count += 1\n",
    "        \n",
    "if count == 10:\n",
    "    print(\"YES\")\n",
    "else:\n",
    "    print(\"NO\")"
   ]
  },
  {
   "cell_type": "markdown",
   "id": "894a99cc-c84d-44b6-b965-640a3b546c0a",
   "metadata": {},
   "source": [
    "The first n numbers of the Fibonacci sequence"
   ]
  },
  {
   "cell_type": "code",
   "execution_count": 7,
   "id": "1ed5e3ab-1615-4da7-8aaa-ce8e751e079f",
   "metadata": {},
   "outputs": [
    {
     "name": "stdin",
     "output_type": "stream",
     "text": [
      " 6\n"
     ]
    },
    {
     "name": "stdout",
     "output_type": "stream",
     "text": [
      "1 1 2 3 5 8 "
     ]
    }
   ],
   "source": [
    "n = int(input())\n",
    "\n",
    "fib1 = 0\n",
    "fib2 = 1\n",
    "\n",
    "for i in range(1, n + 1):\n",
    "    print(fib2, end=\" \")\n",
    "    \n",
    "    c = fib1 + fib2\n",
    "    fib1, fib2 = fib2, c"
   ]
  },
  {
   "cell_type": "markdown",
   "id": "450b1d1e-6384-4b94-a87c-9f61a8e0adac",
   "metadata": {},
   "source": [
    "## While Loop: Processing digits of a number"
   ]
  },
  {
   "cell_type": "markdown",
   "id": "64faec3a-77fa-4002-a251-bcc7cc4bb2ac",
   "metadata": {},
   "source": [
    "Reversing the order of digits in a inputed natural number"
   ]
  },
  {
   "cell_type": "code",
   "execution_count": 50,
   "id": "dde059c7-5752-4f05-b30e-32ab1a07405e",
   "metadata": {},
   "outputs": [
    {
     "name": "stdin",
     "output_type": "stream",
     "text": [
      " 1235\n"
     ]
    },
    {
     "name": "stdout",
     "output_type": "stream",
     "text": [
      "5321"
     ]
    }
   ],
   "source": [
    "n = int(input())\n",
    "\n",
    "while n!= 0:\n",
    "    num = n % 10\n",
    "    print(num, end=\"\")\n",
    "    n = n // 10"
   ]
  },
  {
   "cell_type": "markdown",
   "id": "507f6926-48b8-4377-90b3-cfa489b8706f",
   "metadata": {},
   "source": [
    "Defining max and min digits in the given natural number"
   ]
  },
  {
   "cell_type": "code",
   "execution_count": 9,
   "id": "77f66038-d775-4510-b94b-a7306186cadc",
   "metadata": {},
   "outputs": [
    {
     "name": "stdin",
     "output_type": "stream",
     "text": [
      " 873625\n"
     ]
    },
    {
     "name": "stdout",
     "output_type": "stream",
     "text": [
      "The maximum digit is equal to 8\n",
      "The minimum digit is equal to 2\n"
     ]
    }
   ],
   "source": [
    "n = int(input())\n",
    "\n",
    "mx = 0\n",
    "mn = 9\n",
    "\n",
    "while n!= 0:\n",
    "    num = n % 10\n",
    "    \n",
    "    if num > mx:\n",
    "        mx = num\n",
    "    if num < mn:\n",
    "        mn = num\n",
    "        \n",
    "    n = n // 10\n",
    "\n",
    "print(\"The maximum digit is equal to\", mx)\n",
    "print(\"The minimum digit is equal to\", mn)"
   ]
  },
  {
   "cell_type": "markdown",
   "id": "81186fdf-efac-4f96-9ff5-2c7a558513d7",
   "metadata": {},
   "source": [
    "Determining the second (from the beginning) digit of a given natural number"
   ]
  },
  {
   "cell_type": "code",
   "execution_count": 10,
   "id": "2891f846-24e7-4133-888d-2748737e8ee8",
   "metadata": {},
   "outputs": [
    {
     "name": "stdin",
     "output_type": "stream",
     "text": [
      " 362729\n"
     ]
    },
    {
     "name": "stdout",
     "output_type": "stream",
     "text": [
      "6\n"
     ]
    }
   ],
   "source": [
    "n = int(input())\n",
    "\n",
    "cnt = 0\n",
    "m = n\n",
    "\n",
    "while n!= 0:\n",
    "    num = n % 10\n",
    "    cnt += 1\n",
    "    n = n // 10\n",
    "    \n",
    "sdig = m // 10 ** (cnt - 2) % 10\n",
    "print(sdig)"
   ]
  },
  {
   "cell_type": "markdown",
   "id": "c84d3ebc-f5fd-484a-b888-e6ce1153ea8c",
   "metadata": {},
   "source": [
    "Given a natural number, the program determines whether the sequence of its digits, when viewed from right to left, is ordered non-decreasingly."
   ]
  },
  {
   "cell_type": "code",
   "execution_count": 53,
   "id": "6a086b94-224c-4fe3-bd7a-968ac73c4478",
   "metadata": {},
   "outputs": [
    {
     "name": "stdin",
     "output_type": "stream",
     "text": [
      " 35789\n"
     ]
    },
    {
     "name": "stdout",
     "output_type": "stream",
     "text": [
      "NO\n"
     ]
    }
   ],
   "source": [
    "n = int(input())\n",
    "\n",
    "flag = \"YES\"\n",
    "ldig = n % 10\n",
    "\n",
    "while n > 0:\n",
    "    num = n % 10\n",
    "    if num < ldig:\n",
    "        flag = \"NO\"\n",
    "    n = n // 10\n",
    "    ldig = num\n",
    "\n",
    "print(flag)"
   ]
  },
  {
   "cell_type": "markdown",
   "id": "f2d7f0b9-c274-4ad7-a8c7-07784993d0bb",
   "metadata": {},
   "source": [
    "## Nested loops"
   ]
  },
  {
   "cell_type": "markdown",
   "id": "df09a90a-ee0d-4adc-bacb-326dbd5fabd4",
   "metadata": {},
   "source": [
    "Given an odd natural number n, the program prints an isosceles star triangle with a base of length n"
   ]
  },
  {
   "cell_type": "code",
   "execution_count": 11,
   "id": "e6377ca4-21ad-4402-91d5-e4d4277fcc31",
   "metadata": {},
   "outputs": [
    {
     "name": "stdin",
     "output_type": "stream",
     "text": [
      " 11\n"
     ]
    },
    {
     "name": "stdout",
     "output_type": "stream",
     "text": [
      "*\n",
      "**\n",
      "***\n",
      "****\n",
      "*****\n",
      "******\n",
      "*****\n",
      "****\n",
      "***\n",
      "**\n",
      "*\n"
     ]
    }
   ],
   "source": [
    "n = int(input())\n",
    "\n",
    "mx = n // 2 + 3\n",
    "\n",
    "for i in range(1, n + 1):\n",
    "    l = mx - abs(n // 2 - i)\n",
    "    \n",
    "    for j in range(1, l):\n",
    "        print(\"*\", end=\"\")\n",
    "        \n",
    "        if j == i:\n",
    "            break\n",
    "            \n",
    "    print()"
   ]
  },
  {
   "cell_type": "markdown",
   "id": "e8627cef-4cc9-4170-9253-bfdb1c235b88",
   "metadata": {},
   "source": [
    "### Nested loops. Problems"
   ]
  },
  {
   "cell_type": "markdown",
   "id": "b7e4bb85-f066-463f-93f3-3e0caca46f3f",
   "metadata": {},
   "source": [
    "2. Given a natural number n. Write a program that prints a numerical triangle with a height of n, according to the example:\n",
    "\n",
    "1\n",
    "121\n",
    "12321\n",
    "1234321\n",
    "123454321\n",
    "..."
   ]
  },
  {
   "cell_type": "code",
   "execution_count": 12,
   "id": "8e256275-304b-4bb5-af9f-8ed8fef75fd9",
   "metadata": {},
   "outputs": [
    {
     "name": "stdin",
     "output_type": "stream",
     "text": [
      " 5\n"
     ]
    },
    {
     "name": "stdout",
     "output_type": "stream",
     "text": [
      "1\n",
      "121\n",
      "12321\n",
      "1234321\n",
      "123454321\n"
     ]
    }
   ],
   "source": [
    "n = int(input())\n",
    "\n",
    "for i in range(1, n + 1):\n",
    "    \n",
    "    for j in range(1, i + 1):\n",
    "        print(j, end=\"\")\n",
    "    for k in range(i - 1, 0, -1):\n",
    "        print(k, end=\"\")\n",
    "        \n",
    "    print()"
   ]
  },
  {
   "cell_type": "markdown",
   "id": "15160fe1-e60d-4364-9d98-9e466872a98c",
   "metadata": {},
   "source": [
    "3. The program is given two natural numbers, a and b. Write a program that finds the natural number in the interval [a;b] with the maximum sum of divisors. If there are several numbers with the maximum sum of divisors, then the desired number is the largest of them."
   ]
  },
  {
   "cell_type": "code",
   "execution_count": 13,
   "id": "a1dc61db-edd8-4d53-8efe-5a3ebc551ba4",
   "metadata": {},
   "outputs": [
    {
     "name": "stdin",
     "output_type": "stream",
     "text": [
      " 2\n",
      " 5\n"
     ]
    },
    {
     "name": "stdout",
     "output_type": "stream",
     "text": [
      "4 7\n"
     ]
    }
   ],
   "source": [
    "a, b = int(input()), int(input())\n",
    "\n",
    "mx = a\n",
    "summx = 0\n",
    "\n",
    "for i in range(a, b + 1):\n",
    "    sum = 0\n",
    "    \n",
    "    for j in range(1, i + 1):\n",
    "        if i % j == 0:\n",
    "            sum += j\n",
    "            \n",
    "    if sum >= summx:\n",
    "        summx = sum\n",
    "        mx = i\n",
    "        \n",
    "print(mx, summx)"
   ]
  },
  {
   "cell_type": "markdown",
   "id": "869f9d1d-da1c-42df-aaaa-8cf5e2870796",
   "metadata": {},
   "source": [
    "5. The program is given a natural number n. Write a program that finds the digital root of this number. The digital root of a number n is obtained as follows: if you add up all the digits of this number, then all the digits of the found sum, and repeat this process until a single-digit number (digit) is obtained as a result, which is called the digital root of the original number n."
   ]
  },
  {
   "cell_type": "code",
   "execution_count": 58,
   "id": "77ff66a3-541c-4a6d-a117-f512aa1835b5",
   "metadata": {},
   "outputs": [
    {
     "name": "stdin",
     "output_type": "stream",
     "text": [
      " 58\n"
     ]
    },
    {
     "name": "stdout",
     "output_type": "stream",
     "text": [
      "4\n"
     ]
    }
   ],
   "source": [
    "n = int(input())\n",
    "\n",
    "sum = 0\n",
    "\n",
    "while n > 9:\n",
    "    sum = 0\n",
    "    while n > 0:\n",
    "        num = n % 10\n",
    "        n = n // 10\n",
    "        sum += num\n",
    "    sum, n = n, sum\n",
    "\n",
    "print(n)"
   ]
  },
  {
   "cell_type": "markdown",
   "id": "70cc4250-b74e-4a22-851d-3a8ad43a38e6",
   "metadata": {},
   "source": [
    "7. The program is given two natural numbers a and b. Write a program that finds all prime numbers from a to b inclusive."
   ]
  },
  {
   "cell_type": "code",
   "execution_count": 59,
   "id": "95d1e333-607e-449d-a31d-c1658fc6347c",
   "metadata": {
    "collapsed": true,
    "jupyter": {
     "outputs_hidden": true
    }
   },
   "outputs": [
    {
     "name": "stdin",
     "output_type": "stream",
     "text": [
      " 58\n",
      " 158\n"
     ]
    },
    {
     "name": "stdout",
     "output_type": "stream",
     "text": [
      "59\n",
      "61\n",
      "67\n",
      "71\n",
      "73\n",
      "79\n",
      "83\n",
      "89\n",
      "97\n",
      "101\n",
      "103\n",
      "107\n",
      "109\n",
      "113\n",
      "127\n",
      "131\n",
      "137\n",
      "139\n",
      "149\n",
      "151\n",
      "157\n"
     ]
    }
   ],
   "source": [
    "a, b = int(input()), int(input())\n",
    "\n",
    "for i in range(a, b + 1):\n",
    "    flag = True\n",
    "    for j in range(2, i):\n",
    "        if i % j == 0:\n",
    "            flag = False\n",
    "            break\n",
    "    if flag == True and i != 1:\n",
    "        print(i)"
   ]
  }
 ],
 "metadata": {
  "kernelspec": {
   "display_name": "Python 3 (ipykernel)",
   "language": "python",
   "name": "python3"
  },
  "language_info": {
   "codemirror_mode": {
    "name": "ipython",
    "version": 3
   },
   "file_extension": ".py",
   "mimetype": "text/x-python",
   "name": "python",
   "nbconvert_exporter": "python",
   "pygments_lexer": "ipython3",
   "version": "3.10.13"
  }
 },
 "nbformat": 4,
 "nbformat_minor": 5
}
