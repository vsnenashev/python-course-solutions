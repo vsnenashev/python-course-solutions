{
 "cells": [
  {
   "cell_type": "markdown",
   "id": "81ac5980-3ada-4557-a754-793019bf943e",
   "metadata": {},
   "source": [
    "# Problems on functions"
   ]
  },
  {
   "cell_type": "markdown",
   "id": "07b06aac-8bbd-4157-b18c-d2b3f3c96900",
   "metadata": {},
   "source": [
    "## Functions with return value"
   ]
  },
  {
   "cell_type": "markdown",
   "id": "20083fe3-6ded-40a4-996e-8d048b1fa3a2",
   "metadata": {},
   "source": [
    "#### Problems. Part 1"
   ]
  },
  {
   "cell_type": "markdown",
   "id": "bb545f71-5d47-498f-bfe9-18e5dcabe5c0",
   "metadata": {},
   "source": [
    "3. Write a function named get_factors(num) that takes a natural number as an argument and returns a list of all its divisors."
   ]
  },
  {
   "cell_type": "code",
   "execution_count": null,
   "id": "8907c3a9-e755-47c9-be16-143b170ef602",
   "metadata": {},
   "outputs": [],
   "source": [
    "def get_factors(num):\n",
    "    d = []\n",
    "    for i in range(1, num + 1):\n",
    "        if num % i == 0:\n",
    "            d.append(i)\n",
    "    return d\n",
    "\n",
    "n = int(input())\n",
    "\n",
    "print(get_factors(n))"
   ]
  },
  {
   "cell_type": "markdown",
   "id": "ebfa0041-56ba-45d7-ae36-b16db93dddf7",
   "metadata": {},
   "source": [
    "6. Write a function named merge(list1, list2) that takes two lists sorted in ascending order, consisting of integers, as arguments, and merges them into one sorted list."
   ]
  },
  {
   "cell_type": "code",
   "execution_count": null,
   "id": "cdf2e005-83cf-436e-b9b0-c5db16468c97",
   "metadata": {},
   "outputs": [],
   "source": [
    "def merge(list1, list2):\n",
    "    list3 = list1 + list2\n",
    "    list3.sort()\n",
    "    return list3\n",
    "\n",
    "numbers1 = [int(c) for c in input().split()]\n",
    "numbers2 = [int(c) for c in input().split()]\n",
    "\n",
    "print(merge(numbers1, numbers2))"
   ]
  },
  {
   "cell_type": "markdown",
   "id": "d103a4b3-10d6-4a53-ab1f-886c3c39f2e7",
   "metadata": {},
   "source": [
    "7. The program is given a number n as input, followed by n lines containing integers in ascending order. Lists of numbers are formed from these lines. Write a program that merges the specified lists into one sorted list using the quick_merge() function, and then prints it."
   ]
  },
  {
   "cell_type": "code",
   "execution_count": 2,
   "id": "996d35c9-acb7-4300-8ce9-2f463d2738d8",
   "metadata": {},
   "outputs": [
    {
     "name": "stdin",
     "output_type": "stream",
     "text": [
      " 2\n",
      " 456\n",
      " 2345\n"
     ]
    },
    {
     "name": "stdout",
     "output_type": "stream",
     "text": [
      "456 2345\n"
     ]
    }
   ],
   "source": [
    "def quick_merge(list1, list2):\n",
    "    \n",
    "    result = []\n",
    "    p1 = 0\n",
    "    p2 = 0\n",
    "    \n",
    "    while p1 < len(list1) and p2 < len(list2):\n",
    "        if list1[p1] <= list2[p2]:\n",
    "            result.append(list1[p1])\n",
    "            p1 += 1\n",
    "        else:\n",
    "            result.append(list2[p2])\n",
    "            p2 += 1\n",
    "    if p1 < len(list1):\n",
    "        result += list1[p1:]\n",
    "    else:\n",
    "        result += list2[p2:]\n",
    "    return result\n",
    "\n",
    "n = int(input())\n",
    "numbers1 = [int(c) for c in input().split()]\n",
    "for i in range(n - 1):\n",
    "    numbers2 = [int(c) for c in input().split()]\n",
    "    numbers1 = quick_merge(numbers1, numbers2)\n",
    "    \n",
    "print(*numbers1)"
   ]
  },
  {
   "cell_type": "markdown",
   "id": "cde0258f-e746-4c9e-8bad-b02191340370",
   "metadata": {},
   "source": [
    "### Problems. Part 2: prime numbers"
   ]
  },
  {
   "cell_type": "markdown",
   "id": "7b9da248-fae2-40a5-9104-f49af2fff626",
   "metadata": {},
   "source": [
    "2. Write a function named is_prime(num) that takes a natural number as an argument and returns 'True' if the number is prime, and 'False' otherwise."
   ]
  },
  {
   "cell_type": "code",
   "execution_count": 3,
   "id": "933e2934-3a01-4ec8-aabc-c089a8f06721",
   "metadata": {},
   "outputs": [
    {
     "name": "stdin",
     "output_type": "stream",
     "text": [
      " 354637\n"
     ]
    },
    {
     "name": "stdout",
     "output_type": "stream",
     "text": [
      "False\n"
     ]
    }
   ],
   "source": [
    "# function declaration\n",
    "def is_prime(num):\n",
    "    for i in range(2, num):\n",
    "        if num % i == 0:\n",
    "            return False\n",
    "    if num == 1:\n",
    "        return False\n",
    "    return True\n",
    "\n",
    "# read data\n",
    "n = int(input())\n",
    "\n",
    "# call the function\n",
    "print(is_prime(n))"
   ]
  },
  {
   "cell_type": "markdown",
   "id": "44c316c9-fd68-468c-9d73-ab40a27f625c",
   "metadata": {},
   "source": [
    "3. Write a function named get_next_prime(num) that takes a natural number num as an argument and returns the first prime number greater than the number num. "
   ]
  },
  {
   "cell_type": "code",
   "execution_count": 4,
   "id": "13b1184c-2104-4ea4-a40e-0feed6a1055d",
   "metadata": {},
   "outputs": [
    {
     "name": "stdin",
     "output_type": "stream",
     "text": [
      " 354637\n"
     ]
    },
    {
     "name": "stdout",
     "output_type": "stream",
     "text": [
      "354643\n"
     ]
    }
   ],
   "source": [
    "def is_prime(num):\n",
    "    for i in range(2, num):\n",
    "        if num % i == 0:\n",
    "            return False\n",
    "    if num == 1:\n",
    "        return False\n",
    "    return True\n",
    "\n",
    "def get_next_prime(num):\n",
    "    for i in range(num + 1, num * 2 + 1):\n",
    "        if is_prime(i):\n",
    "            return i\n",
    "            break\n",
    "\n",
    "n = int(input())\n",
    "\n",
    "print(get_next_prime(n))"
   ]
  },
  {
   "cell_type": "markdown",
   "id": "1ee3bb75-8c9f-4648-9157-d9430c7b1976",
   "metadata": {},
   "source": [
    "### Problems. Part 3"
   ]
  },
  {
   "cell_type": "markdown",
   "id": "7c5f1884-a3b1-4a0f-bcef-67f1c10717f2",
   "metadata": {},
   "source": [
    "4. Write a function named is_password_good(password) that takes a string value password as an argument and returns True if the password is strong, and False otherwise. A password is considered strong if it:\n",
    "\n",
    "- has a length of at least 8 characters;\n",
    "- contains at least one uppercase letter;\n",
    "- contains at least one lowercase letter;\n",
    "- contains at least one digit."
   ]
  },
  {
   "cell_type": "code",
   "execution_count": 5,
   "id": "d34042b4-c073-4a16-919c-2dbf19855f7c",
   "metadata": {},
   "outputs": [
    {
     "name": "stdin",
     "output_type": "stream",
     "text": [
      " Tkdw622*ks\n"
     ]
    },
    {
     "name": "stdout",
     "output_type": "stream",
     "text": [
      "True\n"
     ]
    }
   ],
   "source": [
    "def is_password_good(password):\n",
    "    pssw = []\n",
    "    pssw.extend(password)\n",
    "    if len(pssw) < 8:\n",
    "        return False\n",
    "\n",
    "    cnt = 0\n",
    "    for el in pssw:\n",
    "        if el.islower() is not True:\n",
    "            cnt += 1\n",
    "    if cnt == len(pssw):\n",
    "        return False\n",
    "\n",
    "    cnt = 0\n",
    "    for el in pssw:\n",
    "        if el.isupper() is not True:\n",
    "            cnt += 1\n",
    "    if cnt == len(pssw):\n",
    "        return False\n",
    "\n",
    "    cnt = 0\n",
    "    for el in pssw:\n",
    "        if el.isdigit() is not True:\n",
    "            cnt += 1\n",
    "    if cnt == len(pssw):\n",
    "        return False\n",
    "\n",
    "    return True\n",
    "    \n",
    "txt = input()\n",
    "\n",
    "print(is_password_good(txt))"
   ]
  },
  {
   "cell_type": "markdown",
   "id": "2a583f36-5214-44a1-bd4c-fd62adfbcb9c",
   "metadata": {},
   "source": [
    "6. Write a function named is_palindrome(text) that takes a string text as an argument and returns True if the specified text is a palindrome, and False otherwise."
   ]
  },
  {
   "cell_type": "code",
   "execution_count": null,
   "id": "0d3cb4a2-007f-4015-b977-1e4221a4f7d7",
   "metadata": {},
   "outputs": [],
   "source": [
    "def is_palindrome(text):\n",
    "    tx = []\n",
    "    sgn = [\" \", \",\", \".\", \"!\", \"?\", \"-\"]\n",
    "    tx.extend(text.lower())\n",
    "    for el in sgn:\n",
    "        while el in tx:\n",
    "            tx.remove(el)\n",
    "    if tx == tx[::-1]:\n",
    "        return True\n",
    "    else:\n",
    "        return False\n",
    "\n",
    "txt = input()\n",
    "\n",
    "print(is_palindrome(txt))"
   ]
  },
  {
   "cell_type": "markdown",
   "id": "9800c349-5bbc-47fe-80c7-8fdd588f73a4",
   "metadata": {},
   "source": [
    "8. Write a function named is_correct_bracket(text) that takes a non-empty string text as an argument, consisting of characters '(' and ')', and returns 'True' if the input string is a correct bracket sequence, and 'False' otherwise"
   ]
  },
  {
   "cell_type": "code",
   "execution_count": 6,
   "id": "ad0bda98-c8e2-4f59-8984-8ffc3b314694",
   "metadata": {},
   "outputs": [
    {
     "name": "stdin",
     "output_type": "stream",
     "text": [
      " )))()()\n"
     ]
    },
    {
     "name": "stdout",
     "output_type": "stream",
     "text": [
      "False\n"
     ]
    }
   ],
   "source": [
    "def is_correct_bracket(text):\n",
    "    cnt = 0\n",
    "    for el in text:\n",
    "        if el == \"(\":\n",
    "            cnt += 1\n",
    "        else:\n",
    "            cnt += -1\n",
    "        if cnt < 0:\n",
    "            break\n",
    "    if cnt == 0:\n",
    "        return True\n",
    "    else:\n",
    "        return False\n",
    "            \n",
    "txt = input()\n",
    "\n",
    "print(is_correct_bracket(txt))"
   ]
  }
 ],
 "metadata": {
  "kernelspec": {
   "display_name": "Python 3 (ipykernel)",
   "language": "python",
   "name": "python3"
  },
  "language_info": {
   "codemirror_mode": {
    "name": "ipython",
    "version": 3
   },
   "file_extension": ".py",
   "mimetype": "text/x-python",
   "name": "python",
   "nbconvert_exporter": "python",
   "pygments_lexer": "ipython3",
   "version": "3.10.13"
  }
 },
 "nbformat": 4,
 "nbformat_minor": 5
}
