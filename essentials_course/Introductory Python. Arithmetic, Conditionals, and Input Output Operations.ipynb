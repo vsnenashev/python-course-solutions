{
 "cells": [
  {
   "cell_type": "markdown",
   "id": "6bba7dc8-21f7-41f0-ba5e-1a89a3f7a029",
   "metadata": {},
   "source": [
    "# Arithmetic, Conditionals, and I/O Operations"
   ]
  },
  {
   "cell_type": "markdown",
   "id": "80f01351-b2df-4a10-b281-30f320cec783",
   "metadata": {},
   "source": [
    "## Basic Integer arithmetic "
   ]
  },
  {
   "cell_type": "markdown",
   "id": "69cb9b1d-236d-484f-92af-9bb3dd818327",
   "metadata": {},
   "source": [
    "1) The program receives three integers as input: b1, q, n, each on a separate line. The program outputs the n'th term of a geometric progression."
   ]
  },
  {
   "cell_type": "code",
   "execution_count": 1,
   "id": "c19df398-aac8-428b-a5d4-31478abd9887",
   "metadata": {
    "collapsed": true,
    "jupyter": {
     "outputs_hidden": true
    }
   },
   "outputs": [
    {
     "name": "stdin",
     "output_type": "stream",
     "text": [
      " 1\n",
      " 2\n",
      " 3\n"
     ]
    },
    {
     "name": "stdout",
     "output_type": "stream",
     "text": [
      "4\n"
     ]
    }
   ],
   "source": [
    "b1 = int(input())\n",
    "q = int(input())\n",
    "n = int(input())\n",
    "print(b1 * q ** (n - 1))"
   ]
  },
  {
   "cell_type": "markdown",
   "id": "22b8864e-119f-4833-aa22-feea4aaa4f05",
   "metadata": {},
   "source": [
    "5. The program receives a time interval in minutes as input and converts it into hours and minutes. Output format:\n",
    "<original number of minutes> min – is <total number of hours> hour(s) <remaining number of minutes> minute(s)."
   ]
  },
  {
   "cell_type": "code",
   "execution_count": 2,
   "id": "cc0212a5-ea8b-49ba-a8b6-54aab87c9f98",
   "metadata": {},
   "outputs": [
    {
     "name": "stdin",
     "output_type": "stream",
     "text": [
      " 5\n"
     ]
    },
    {
     "name": "stdout",
     "output_type": "stream",
     "text": [
      "5 min - is 0 hours 5 minutes.\n"
     ]
    }
   ],
   "source": [
    "n = int(input())\n",
    "print(n, 'min - is', n//60, 'hours', n%60, 'minutes.')"
   ]
  },
  {
   "cell_type": "markdown",
   "id": "b543eb98-dae6-41ca-8507-21d6718f388b",
   "metadata": {},
   "source": [
    "7. The program receives a seat number as input and determines the compartment number in a train coach with 9 compartments, each containing 4 seats. The seat numbering is consecutive, starting from 1."
   ]
  },
  {
   "cell_type": "code",
   "execution_count": 7,
   "id": "31dc4002-a656-47b1-89bc-740c8b8c06cc",
   "metadata": {},
   "outputs": [
    {
     "name": "stdin",
     "output_type": "stream",
     "text": [
      " 25\n"
     ]
    },
    {
     "name": "stdout",
     "output_type": "stream",
     "text": [
      "7\n"
     ]
    }
   ],
   "source": [
    "n = int(input())\n",
    "print((n+3)//4)"
   ]
  },
  {
   "cell_type": "markdown",
   "id": "b71782e2-09d2-41e5-b40d-ff464d06be5a",
   "metadata": {},
   "source": [
    "9. This program finds the digits of a four-digit number."
   ]
  },
  {
   "cell_type": "code",
   "execution_count": 4,
   "id": "f865dda7-0c69-42b2-99ca-e9d8135ebe51",
   "metadata": {
    "collapsed": true,
    "jupyter": {
     "outputs_hidden": true
    }
   },
   "outputs": [
    {
     "name": "stdin",
     "output_type": "stream",
     "text": [
      " 1234\n"
     ]
    },
    {
     "name": "stdout",
     "output_type": "stream",
     "text": [
      "The digit in the thousands position is 1\n",
      "The digit in the hundreds position is 2\n",
      "The digit in the tens position is 3\n",
      "The digit in the units position is 4\n"
     ]
    }
   ],
   "source": [
    "n = int(input())\n",
    "\n",
    "n1 = (n // 10**3) % 10\n",
    "n2 = (n // 10**2) % 10\n",
    "n3 = (n // 10**1) % 10\n",
    "n4 = (n // 10**0) % 10\n",
    "\n",
    "print('The digit in the thousands position is', n1)\n",
    "print('The digit in the hundreds position is', n2)\n",
    "print('The digit in the tens position is', n3)\n",
    "print('The digit in the units position is', n4)"
   ]
  },
  {
   "cell_type": "markdown",
   "id": "74ed9deb-a28c-4d1b-b346-da78f677e0f9",
   "metadata": {},
   "source": [
    "10. This program reads two integers a and b, and displays on the screen the square of the sum and the sum of the squares of these numbers."
   ]
  },
  {
   "cell_type": "code",
   "execution_count": 5,
   "id": "3d69e983-aa4c-44e6-8250-8a55595d02ba",
   "metadata": {},
   "outputs": [
    {
     "name": "stdin",
     "output_type": "stream",
     "text": [
      " 1\n",
      " 2\n"
     ]
    },
    {
     "name": "stdout",
     "output_type": "stream",
     "text": [
      "The square of the sum  1 and 2 equals 9\n",
      "The sum of the squares 1 and 2 equals 5\n"
     ]
    }
   ],
   "source": [
    "a = int(input())\n",
    "b = int(input())\n",
    "print('The square of the sum ', a, 'and', b,\n",
    "'equals', (a + b)**2)\n",
    "print('The sum of the squares', a, 'and', b, 'equals', a**2 + b**2)"
   ]
  },
  {
   "cell_type": "markdown",
   "id": "1c07afaf-d342-47db-addc-55ed215c79d6",
   "metadata": {},
   "source": [
    "## Conditional Operator\n"
   ]
  },
  {
   "cell_type": "markdown",
   "id": "89eea7bc-0801-4698-b178-b6e931616dc3",
   "metadata": {},
   "source": [
    "### Choosing between two options"
   ]
  },
  {
   "cell_type": "markdown",
   "id": "dd863ac4-7543-4f1d-8d0c-f3fb14ff4d7c",
   "metadata": {},
   "source": [
    "3. The program checks if the given four-digit number satisfies the following condition: the sum of the first and last digits equals the difference between the second and third digits."
   ]
  },
  {
   "cell_type": "code",
   "execution_count": 19,
   "id": "5bcb1461-82f5-4e8b-93cf-8f01e93507bc",
   "metadata": {
    "collapsed": true,
    "jupyter": {
     "outputs_hidden": true
    }
   },
   "outputs": [
    {
     "name": "stdin",
     "output_type": "stream",
     "text": [
      " 5643\n"
     ]
    },
    {
     "name": "stdout",
     "output_type": "stream",
     "text": [
      "NO\n"
     ]
    }
   ],
   "source": [
    "n = int(input())\n",
    "\n",
    "n1 = (n // 10**3) % 10\n",
    "n2 = (n // 10**2) % 10\n",
    "n3 = (n // 10**1) % 10\n",
    "n4 = (n // 10**0) % 10\n",
    "\n",
    "if n1 + n4 == n2 - n3:\n",
    "    print('YES')\n",
    "else:\n",
    "    print('NO')"
   ]
  },
  {
   "cell_type": "markdown",
   "id": "acee1af1-b3e3-4159-9f32-f11fd1498f01",
   "metadata": {},
   "source": [
    "7. The smallest of four numbers."
   ]
  },
  {
   "cell_type": "code",
   "execution_count": 15,
   "id": "4fb419dc-e9d4-4ff7-a356-c4fc2d7f353c",
   "metadata": {
    "collapsed": true,
    "jupyter": {
     "outputs_hidden": true
    },
    "scrolled": true
   },
   "outputs": [
    {
     "name": "stdin",
     "output_type": "stream",
     "text": [
      " 1\n",
      " 2\n",
      " 3\n",
      " 4\n"
     ]
    },
    {
     "name": "stdout",
     "output_type": "stream",
     "text": [
      "1\n"
     ]
    }
   ],
   "source": [
    "a, b, c, d = int(input()), int(input()), int(input()), int(input())\n",
    "\n",
    "if a < b:\n",
    "    min_ab = a\n",
    "else:\n",
    "    min_ab = b\n",
    "\n",
    "if c < d:\n",
    "    min_cd = c\n",
    "else:\n",
    "    min_cd = d\n",
    "\n",
    "if min_ab < min_cd:\n",
    "    min_abcd = min_ab\n",
    "else:\n",
    "    min_abcd = min_cd\n",
    "\n",
    "print(min_abcd)"
   ]
  },
  {
   "cell_type": "markdown",
   "id": "ba376dc4-d4ea-457a-bb1c-4d3ab75c97da",
   "metadata": {},
   "source": [
    "9. This code reads three numbers and calculates the sum of only the positive numbers."
   ]
  },
  {
   "cell_type": "code",
   "execution_count": 24,
   "id": "a5059d6b-7349-4ea9-b463-b0c12d1baeef",
   "metadata": {
    "collapsed": true,
    "jupyter": {
     "outputs_hidden": true
    },
    "scrolled": true
   },
   "outputs": [
    {
     "name": "stdin",
     "output_type": "stream",
     "text": [
      " 1\n",
      " 3\n",
      " 2\n"
     ]
    },
    {
     "name": "stdout",
     "output_type": "stream",
     "text": [
      "6\n"
     ]
    }
   ],
   "source": [
    "n1, n2, n3 = int(input()), int(input()), int(input())\n",
    "n = 0\n",
    "\n",
    "if n1 > 0:\n",
    "    n = n + n1\n",
    "if n2 > 0:\n",
    "    n = n + n2\n",
    "if n3 > 0:\n",
    "    n = n + n3\n",
    "\n",
    "print(n)"
   ]
  },
  {
   "cell_type": "markdown",
   "id": "d5cf263a-55f1-41e9-80aa-a88f53ef1ee0",
   "metadata": {},
   "source": [
    "### Problems on logical operations"
   ]
  },
  {
   "cell_type": "markdown",
   "id": "59365d7f-9aa8-47ec-8f73-f0feadd60699",
   "metadata": {},
   "source": [
    "4. Let's call a number beautiful if it is a four-digit number and is divisible by 7 or 17 without a remainder. Write a program to determine whether the entered number is beautiful. The program should output 'YES' if the number is beautiful, or 'NO' otherwise."
   ]
  },
  {
   "cell_type": "code",
   "execution_count": 9,
   "id": "ff7cd2ce-69bb-4426-98f9-e56e538d8958",
   "metadata": {},
   "outputs": [
    {
     "name": "stdin",
     "output_type": "stream",
     "text": [
      " 66775\n"
     ]
    },
    {
     "name": "stdout",
     "output_type": "stream",
     "text": [
      "NO\n"
     ]
    }
   ],
   "source": [
    "x = int(input())\n",
    "\n",
    "if 999 < x <= 9999 and (x % 7 == 0 or x % 17 == 0):\n",
    "    print('YES')\n",
    "else:\n",
    "    print('NO')"
   ]
  },
  {
   "cell_type": "markdown",
   "id": "777a5c3b-8066-483d-b79d-d5865e6cc714",
   "metadata": {},
   "source": [
    "7. Given two different cells on a chessboard. Write a program that determines whether a rook can move from the first cell to the second in one move. The program receives four numbers from 1 to 8 each as input, representing the column number and row number for the first cell, and then for the second cell. The program should output 'YES' if the rook can move from the first cell to the second in one move, or 'NO' otherwise."
   ]
  },
  {
   "cell_type": "code",
   "execution_count": 10,
   "id": "aa3092a7-b902-415a-9456-efe2a51f6a32",
   "metadata": {
    "collapsed": true,
    "jupyter": {
     "outputs_hidden": true
    }
   },
   "outputs": [
    {
     "name": "stdin",
     "output_type": "stream",
     "text": [
      " 1\n",
      " 2\n",
      " 3\n",
      " 4\n"
     ]
    },
    {
     "name": "stdout",
     "output_type": "stream",
     "text": [
      "NO\n"
     ]
    }
   ],
   "source": [
    "a, b, c, d = int(input()), int(input()), int(input()), int(input())\n",
    "\n",
    "if a == c or b == d:\n",
    "    print('YES')\n",
    "else:\n",
    "    print('NO')"
   ]
  },
  {
   "cell_type": "markdown",
   "id": "22a97bbb-054d-4ff0-bbb0-5ab7c1ed27aa",
   "metadata": {},
   "source": [
    "8. Given two different cells on a chessboard. Write a program that determines whether a king can move from the first cell to the second in one move. The program receives four numbers from 1 to 8 each as input, representing the column number and row number for the first cell, and then for the second cell. The program should output 'YES' if the king can move from the first cell to the second in one move, or 'NO' otherwise."
   ]
  },
  {
   "cell_type": "code",
   "execution_count": 11,
   "id": "3ae27c29-d6c6-44b4-9a95-9ba578ba2ed7",
   "metadata": {
    "collapsed": true,
    "jupyter": {
     "outputs_hidden": true
    }
   },
   "outputs": [
    {
     "name": "stdin",
     "output_type": "stream",
     "text": [
      " 1\n",
      " 2\n",
      " 3\n",
      " 6\n"
     ]
    },
    {
     "name": "stdout",
     "output_type": "stream",
     "text": [
      "NO\n"
     ]
    }
   ],
   "source": [
    "a, b, c, d = int(input()), int(input()), int(input()), int(input())\n",
    "\n",
    "if abs(c - a) <= 1 and abs(d - b) <= 1:\n",
    "    print('YES')\n",
    "else:\n",
    "    print('NO')"
   ]
  },
  {
   "cell_type": "markdown",
   "id": "07b875ba-72cf-4738-9677-601bb91ee15e",
   "metadata": {},
   "source": [
    "### Nested and cascading conditions\n"
   ]
  },
  {
   "cell_type": "markdown",
   "id": "5c74b847-b8ea-4f4b-8815-3a01b3cb441f",
   "metadata": {},
   "source": [
    "Finding the median value among 3 numbers"
   ]
  },
  {
   "cell_type": "code",
   "execution_count": 12,
   "id": "04df342a-51ce-455d-8186-9157f9a887cd",
   "metadata": {
    "collapsed": true,
    "jupyter": {
     "outputs_hidden": true
    }
   },
   "outputs": [
    {
     "name": "stdin",
     "output_type": "stream",
     "text": [
      " 1\n",
      " 2\n",
      " 3\n"
     ]
    },
    {
     "name": "stdout",
     "output_type": "stream",
     "text": [
      "2\n"
     ]
    }
   ],
   "source": [
    "a, b, c = int(input()), int(input()), int(input())\n",
    "\n",
    "if a < b < c or c < b < a:\n",
    "    print(b)\n",
    "elif a < c < b or b < c < a:\n",
    "    print(c)\n",
    "else:\n",
    "    print(a)"
   ]
  },
  {
   "cell_type": "markdown",
   "id": "951d785a-7494-424c-b1cd-e0fedabfa586",
   "metadata": {},
   "source": [
    "6. A program that reads two integers and an operator (+, -, *, /) from the keyboard. If it's a valid operation, it is performed on the integers. Otherwise, there is an indication it's an invalid operation. If division by zero is attempted, show an appropriate message."
   ]
  },
  {
   "cell_type": "code",
   "execution_count": 18,
   "id": "72df55f4-95d1-4d27-ab7c-3b28f22fe59c",
   "metadata": {},
   "outputs": [
    {
     "name": "stdin",
     "output_type": "stream",
     "text": [
      " 1\n",
      " 0\n",
      " /\n"
     ]
    },
    {
     "name": "stdout",
     "output_type": "stream",
     "text": [
      "You cannot divide by zero!\n"
     ]
    }
   ],
   "source": [
    "a, b, c = int(input()), int(input()), input()\n",
    "\n",
    "if c == \"+\":\n",
    "    print(a + b)\n",
    "elif c == \"-\":\n",
    "    print(a - b)\n",
    "elif c == \"*\":\n",
    "    print(a * b)\n",
    "elif c == \"/\":\n",
    "    if b != 0:\n",
    "        print(a / b)\n",
    "    else:\n",
    "        print(\"You cannot divide by zero!\")\n",
    "else:\n",
    "    print(\"Wrong operation\") "
   ]
  },
  {
   "cell_type": "markdown",
   "id": "bfe6a8b0-8533-4332-bdb7-d51a05770499",
   "metadata": {},
   "source": [
    "7. Write a program that reads two primary colors for mixing. If the user inputs anything other than 'red', 'blue', or 'yellow', display an error message. Otherwise, output the name of the secondary color that will result from the mixing.ате."
   ]
  },
  {
   "cell_type": "code",
   "execution_count": 22,
   "id": "75f769b5-2527-488b-b373-e619e1bac058",
   "metadata": {
    "collapsed": true,
    "jupyter": {
     "outputs_hidden": true
    }
   },
   "outputs": [
    {
     "name": "stdin",
     "output_type": "stream",
     "text": [
      " yellow\n",
      " red\n"
     ]
    },
    {
     "name": "stdout",
     "output_type": "stream",
     "text": [
      "orange\n"
     ]
    }
   ],
   "source": [
    "a, b = input(), input()\n",
    "\n",
    "if (a == \"red\" or a == \"blue\" or a == \"yellow\") and (b == \"red\" or b == \"blue\" or b == \"yellow\"):\n",
    "    if a == b:\n",
    "        print(a)\n",
    "    elif a == \"red\" or b == \"red\":\n",
    "        if a == \"blue\" or b == \"blue\":\n",
    "            print(\"purple\")\n",
    "        elif a == \"yellow\" or b == \"yellow\":\n",
    "            print(\"orange\")\n",
    "    elif a == \"blue\" or b == \"blue\":\n",
    "        if a == \"yellow\" or b == \"yellow\":\n",
    "            print(\"green\")\n",
    "else:\n",
    "    print(\"input color error\") "
   ]
  },
  {
   "cell_type": "markdown",
   "id": "657a206f-45f5-49c3-9507-3ba419787c98",
   "metadata": {},
   "source": [
    "9. The program takes four integers as input, each on a separate line: a1, b1, a2, b2. It should display on the screen the boundaries of the segment that is the intersection, or the common point, or the text 'empty set'."
   ]
  },
  {
   "cell_type": "code",
   "execution_count": 23,
   "id": "0a955510-a56d-4beb-9408-6635a043c39c",
   "metadata": {
    "collapsed": true,
    "jupyter": {
     "outputs_hidden": true
    }
   },
   "outputs": [
    {
     "name": "stdin",
     "output_type": "stream",
     "text": [
      " 1\n",
      " 2\n",
      " 3\n",
      " 4\n"
     ]
    },
    {
     "name": "stdout",
     "output_type": "stream",
     "text": [
      "empty set\n"
     ]
    }
   ],
   "source": [
    "a1, b1, a2, b2 = int(input()), int(input()), int(input()), int(input()) \n",
    "\n",
    "if min(b1, b2) < max(a1, a2): \n",
    "    print('empty set')\n",
    "elif min(b1, b2) == max(a1, a2):\n",
    "    print(min(b1, b2))\n",
    "else:\n",
    "    print(max(a1, a2), min(b1, b2))"
   ]
  },
  {
   "cell_type": "markdown",
   "id": "7aceb0a8-4b22-4b25-a05c-cda4f1341be3",
   "metadata": {},
   "source": [
    "## Problems on data input-output"
   ]
  },
  {
   "cell_type": "markdown",
   "id": "3fbbe6c1-cb92-4977-8b7a-049fba16d33d",
   "metadata": {},
   "source": [
    "6. Given two cells on a chessboard, the program determines if a bishop can move between them in one step. Input four numbers from 1 to 8, representing the column and row numbers for the two cells. Output 'YES' if the bishop can move in one step, otherwise 'NO'."
   ]
  },
  {
   "cell_type": "code",
   "execution_count": 27,
   "id": "f1f903b2-c2d1-41a5-a7ba-92da78a506a2",
   "metadata": {},
   "outputs": [
    {
     "name": "stdin",
     "output_type": "stream",
     "text": [
      " 1\n",
      " 2\n",
      " 3\n",
      " 4\n"
     ]
    },
    {
     "name": "stdout",
     "output_type": "stream",
     "text": [
      "YES\n"
     ]
    }
   ],
   "source": [
    "a, b, c, d= int(input()), int(input()), int(input()), int(input())\n",
    "\n",
    "if abs(c - a) == abs(d - b):\n",
    "    print('YES')\n",
    "else:\n",
    "    print('NO')"
   ]
  },
  {
   "cell_type": "markdown",
   "id": "3052861b-bfb7-406e-8b81-b864ca79f7ec",
   "metadata": {},
   "source": [
    "7. Given two cells on a chessboard, the program determines if a knight can move between them in one step. Input four numbers from 1 to 8, representing the column and row numbers for the two cells. Output 'YES' if the knight can move in one step, otherwise 'NO'."
   ]
  },
  {
   "cell_type": "code",
   "execution_count": 25,
   "id": "d94cdd05-28c9-4b06-843f-ef52b0941fba",
   "metadata": {},
   "outputs": [
    {
     "name": "stdin",
     "output_type": "stream",
     "text": [
      " 1\n",
      " 2\n",
      " 4\n",
      " 6\n"
     ]
    },
    {
     "name": "stdout",
     "output_type": "stream",
     "text": [
      "NO\n"
     ]
    }
   ],
   "source": [
    "a, b, c, d= int(input()), int(input()), int(input()), int(input())\n",
    "\n",
    "if abs(c - a) == 2 and abs(d - b) == 1 or abs(d - b) == 2 and abs(c - a) == 1:\n",
    "    print('YES')\n",
    "else:\n",
    "    print('NO')"
   ]
  },
  {
   "cell_type": "markdown",
   "id": "e2663080-0b86-483b-92f1-9df282dad280",
   "metadata": {},
   "source": [
    "8. Given two cells on a chessboard, the program determines if a queen can move between them in one step. Input four numbers from 1 to 8, representing the column and row numbers for the two cells. Output 'YES' if the queen can move in one step, otherwise 'NO'."
   ]
  },
  {
   "cell_type": "code",
   "execution_count": 26,
   "id": "c71e7620-f4ed-4ccd-af61-b8f9e155bfac",
   "metadata": {},
   "outputs": [
    {
     "name": "stdin",
     "output_type": "stream",
     "text": [
      " 1\n",
      " 2\n",
      " 3\n",
      " 4\n"
     ]
    },
    {
     "name": "stdout",
     "output_type": "stream",
     "text": [
      "YES\n"
     ]
    }
   ],
   "source": [
    "a, b, c, d= int(input()), int(input()), int(input()), int(input())\n",
    "\n",
    "if abs(c - a) == abs(d - b) or (c - a)*(d - b) == 0:\n",
    "    print('YES')\n",
    "else: \n",
    "    print('NO')"
   ]
  }
 ],
 "metadata": {
  "kernelspec": {
   "display_name": "Python 3 (ipykernel)",
   "language": "python",
   "name": "python3"
  },
  "language_info": {
   "codemirror_mode": {
    "name": "ipython",
    "version": 3
   },
   "file_extension": ".py",
   "mimetype": "text/x-python",
   "name": "python",
   "nbconvert_exporter": "python",
   "pygments_lexer": "ipython3",
   "version": "3.10.13"
  }
 },
 "nbformat": 4,
 "nbformat_minor": 5
}
