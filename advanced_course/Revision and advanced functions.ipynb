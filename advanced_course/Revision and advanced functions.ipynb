{
 "cells": [
  {
   "cell_type": "markdown",
   "id": "cb28a652-c981-4e0a-8c86-30ab90acb26a",
   "metadata": {},
   "source": [
    "# Revision and advanced functions"
   ]
  },
  {
   "cell_type": "markdown",
   "id": "b18407c5-8c0e-433a-913c-e673a31e455d",
   "metadata": {},
   "source": [
    "## Revisiting Basic Python Constructs 🐍"
   ]
  },
  {
   "cell_type": "markdown",
   "id": "fa99eb4f-0244-4c75-9b47-a409d90f2922",
   "metadata": {},
   "source": [
    "Given a five-digit or six-digit natural number, the program reverses the order of its last five digits."
   ]
  },
  {
   "cell_type": "code",
   "execution_count": 1,
   "id": "19ce6afb-7fb2-4e35-85b7-2e5dc0b429b4",
   "metadata": {},
   "outputs": [
    {
     "name": "stdin",
     "output_type": "stream",
     "text": [
      " 12345\n"
     ]
    },
    {
     "name": "stdout",
     "output_type": "stream",
     "text": [
      "54321\n"
     ]
    }
   ],
   "source": [
    "dig = [int(i) for i in input()]\n",
    "\n",
    "if len(dig) == 5:\n",
    "    dig1 = dig[::-1] \n",
    "elif len(dig) == 6:\n",
    "    dig1 = [dig[0]] + dig[1:][::-1]\n",
    "    \n",
    "for i in range(len(dig)):\n",
    "    \n",
    "    if dig1[0] == 0:\n",
    "        dig1 = dig1[1:]\n",
    "    else:\n",
    "        break\n",
    "        \n",
    "print(*dig1, sep=\"\")"
   ]
  },
  {
   "cell_type": "markdown",
   "id": "c3d1375a-ce9c-44d5-8c2f-bad4d67b7963",
   "metadata": {},
   "source": [
    "Given a natural number as input, the program inserts commas into the number according to the standard American convention for commas in large numbers."
   ]
  },
  {
   "cell_type": "code",
   "execution_count": 2,
   "id": "a9cffe95-5e87-48a2-98c5-38fbb3305ec8",
   "metadata": {},
   "outputs": [
    {
     "name": "stdin",
     "output_type": "stream",
     "text": [
      " 4555\n"
     ]
    },
    {
     "name": "stdout",
     "output_type": "stream",
     "text": [
      "4,555\n"
     ]
    }
   ],
   "source": [
    "dig = [int(i) for i in input()]\n",
    "n = -3\n",
    "\n",
    "for i in range(len(dig) // 3):\n",
    "    \n",
    "    dig.insert(n, \",\")\n",
    "    n -= 4\n",
    "    \n",
    "if dig[0] == \",\":\n",
    "    print(*dig[1:], sep=\"\")\n",
    "    \n",
    "else:\n",
    "    print(*dig, sep=\"\")"
   ]
  },
  {
   "cell_type": "markdown",
   "id": "69cb9b1d-236d-484f-92af-9bb3dd818327",
   "metadata": {},
   "source": [
    "This code determines if a given number is the product of two numbers from a given set"
   ]
  },
  {
   "cell_type": "code",
   "execution_count": 5,
   "id": "c19df398-aac8-428b-a5d4-31478abd9887",
   "metadata": {},
   "outputs": [
    {
     "name": "stdin",
     "output_type": "stream",
     "text": [
      " 4\n",
      " 89\n",
      " 4\n",
      " 77\n",
      " 4\n",
      " 16\n"
     ]
    },
    {
     "name": "stdout",
     "output_type": "stream",
     "text": [
      "YES\n"
     ]
    }
   ],
   "source": [
    "n = int(input())\n",
    "n1 = []\n",
    "\n",
    "flag = False\n",
    "\n",
    "for i in range(n):\n",
    "    n1.append(int(input()))\n",
    "    \n",
    "k = int(input())\n",
    "\n",
    "for el in n1:\n",
    "    for i in range(n1.index(el) + 1, len(n1)):\n",
    "        \n",
    "        if el * n1[i] == k:\n",
    "            flag = True\n",
    "            break\n",
    "\n",
    "if flag:\n",
    "    print(\"YES\")\n",
    "else:\n",
    "    print(\"NO\")"
   ]
  },
  {
   "cell_type": "markdown",
   "id": "38ad1734-478b-4408-9b10-ec113b313196",
   "metadata": {},
   "source": [
    "## Problems"
   ]
  },
  {
   "cell_type": "markdown",
   "id": "48fb6e61-395d-4a4b-8bba-6e36ce2ff07f",
   "metadata": {},
   "source": [
    "### Josephus Problem"
   ]
  },
  {
   "cell_type": "markdown",
   "id": "3ffa7e03-2c4c-47ae-bf9a-ddc6f9c54499",
   "metadata": {},
   "source": [
    "N people, numbered from 1 to n, stand in a circle. They begin counting, and every k-th person is eliminated from the circle, after which the counting continues with the next person. The program determines the number of the person who will remain in the circle last."
   ]
  },
  {
   "cell_type": "code",
   "execution_count": 4,
   "id": "b885e550-df04-43bb-a08e-2866228e639a",
   "metadata": {},
   "outputs": [
    {
     "name": "stdin",
     "output_type": "stream",
     "text": [
      " 7\n",
      " 5\n"
     ]
    },
    {
     "name": "stdout",
     "output_type": "stream",
     "text": [
      "6\n"
     ]
    }
   ],
   "source": [
    "n, k = int(input()), int(input())\n",
    "ios = [i for i in range(1, n + 1)]\n",
    "\n",
    "while len(ios) > 1:\n",
    "    \n",
    "    for i in range(k  - 1):\n",
    "        n1 = ios.pop(0)\n",
    "        ios = ios + [n1]\n",
    "        \n",
    "    ios.pop(0)\n",
    "\n",
    "print(*ios)"
   ]
  },
  {
   "cell_type": "markdown",
   "id": "22b8864e-119f-4833-aa22-feea4aaa4f05",
   "metadata": {},
   "source": [
    "### \"Rock, paper, scissors, lizard, Spock\""
   ]
  },
  {
   "cell_type": "code",
   "execution_count": 6,
   "id": "cc0212a5-ea8b-49ba-a8b6-54aab87c9f98",
   "metadata": {},
   "outputs": [
    {
     "name": "stdin",
     "output_type": "stream",
     "text": [
      " Spock\n",
      " lizard\n"
     ]
    },
    {
     "name": "stdout",
     "output_type": "stream",
     "text": [
      "Ksusha\n"
     ]
    }
   ],
   "source": [
    "tim = input()\n",
    "rus = input()\n",
    "\n",
    "def knbys(a, b):\n",
    "    \n",
    "    n = ['rock', 'lizard', 'Spock', 'scissors', 'paper']\n",
    "    pl = [\"Valya\", \"Ksusha\"]  \n",
    "    ina = n.index(a)\n",
    "    inb = n.index(b)\n",
    "    \n",
    "    mn = [ina, inb].index(min([ina, inb]))\n",
    "    \n",
    "    if ina == inb:\n",
    "        return(print(\"Tie!\"))\n",
    "    elif (ina - inb) % 2 == 1:\n",
    "        return print(pl[mn])\n",
    "    else:\n",
    "        return print(pl[mn - 1])\n",
    "        \n",
    "knbys(tim, rus)"
   ]
  },
  {
   "cell_type": "markdown",
   "id": "16dd5833-7dad-4e9a-9a56-41c5273fb31a",
   "metadata": {},
   "source": [
    "# Functions: anonymous and built-in"
   ]
  },
  {
   "cell_type": "markdown",
   "id": "119506df-663d-44cc-9ac0-ce08982761c3",
   "metadata": {},
   "source": [
    "## Anonymous functions"
   ]
  },
  {
   "cell_type": "markdown",
   "id": "6f808e6c-15ce-4736-8d97-de9718677552",
   "metadata": {},
   "source": [
    "4. Write a function is_num using the syntax of lambda functions, which takes a string argument and returns True if the argument passed is a number (integer or float) and False otherwise."
   ]
  },
  {
   "cell_type": "code",
   "execution_count": 63,
   "id": "fd53d8ea-736f-469a-8949-e700c1f0414f",
   "metadata": {},
   "outputs": [
    {
     "name": "stdin",
     "output_type": "stream",
     "text": [
      " kjfgfkdfk\n"
     ]
    },
    {
     "name": "stdout",
     "output_type": "stream",
     "text": [
      "NO\n"
     ]
    }
   ],
   "source": [
    "is_num = lambda x: (((\"-\" not in x[1:]) and (x[1:].replace(\".\", \"\", 1).isdigit()) and (x[0] == \"-\" or x[0].isdigit())) or x.isdigit())"
   ]
  },
  {
   "cell_type": "markdown",
   "id": "72074511-8501-4743-a1de-db310311f6fb",
   "metadata": {},
   "source": [
    "11. The program is given the coefficients of a polynomial (integers) separated by a space on the first line and an integer x on the second line as input. The program should output a single number - the value of the specified polynomial at the given value of x."
   ]
  },
  {
   "cell_type": "code",
   "execution_count": 9,
   "id": "a1eb2ec7-2820-4d01-bfe2-d02cef78d556",
   "metadata": {},
   "outputs": [
    {
     "name": "stdin",
     "output_type": "stream",
     "text": [
      " 2 34 5\n",
      " 2\n"
     ]
    },
    {
     "name": "stdout",
     "output_type": "stream",
     "text": [
      "81\n"
     ]
    }
   ],
   "source": [
    "from functools import reduce\n",
    "\n",
    "def evaluate(coefficients, x):\n",
    "    \n",
    "    a = [int(i) for i in coefficients.split()]\n",
    "    b = [i for i in range(len(a) - 1, -1, -1)]\n",
    "    c = map(lambda j, k: j * (x ** k), a, b)\n",
    "    d = reduce(lambda e, l: e + l, c, 0)\n",
    "    \n",
    "    return d\n",
    "    \n",
    "print(evaluate(input(), int(input())))"
   ]
  },
  {
   "cell_type": "markdown",
   "id": "704fe55f-dfc7-44b1-be70-a15a28014215",
   "metadata": {},
   "source": [
    "15. A good password according to the conditions of this task consists of at least 7 characters, contains at least one digit, uppercase, and lowercase letter. Write a program with the built-in any() function to determine if the entered password is good."
   ]
  },
  {
   "cell_type": "code",
   "execution_count": 10,
   "id": "c6539871-ce41-4ab2-9a1c-c10f936ea1ee",
   "metadata": {},
   "outputs": [
    {
     "name": "stdin",
     "output_type": "stream",
     "text": [
      " Gtducosn662\n"
     ]
    },
    {
     "name": "stdout",
     "output_type": "stream",
     "text": [
      "YES\n"
     ]
    }
   ],
   "source": [
    "pas = input()\n",
    "\n",
    "a = all([(len(pas) >= 7), any(map(lambda x: (x.isalpha() and x == x.lower()), pas)), any(map(lambda x: (x.isalpha() and x == x.upper()), pas)), any(map(lambda x: x.isdigit(), pas))])\n",
    "print((\"NO\", \"YES\")[a])"
   ]
  },
  {
   "cell_type": "markdown",
   "id": "ef7b58c3-1307-4bd0-aedf-56dc30721327",
   "metadata": {},
   "source": [
    "## Built-in functions"
   ]
  },
  {
   "cell_type": "markdown",
   "id": "4a405d49-47f3-4ec5-bdf7-7692787ea58d",
   "metadata": {},
   "source": [
    "8. Write a function arithmetic_operation() that takes a symbol of one of the four arithmetic operations (+, -, , /) and returns a function of two arguments for the corresponding operation."
   ]
  },
  {
   "cell_type": "code",
   "execution_count": 12,
   "id": "67894ab5-f724-4a8f-8827-fb18e772e404",
   "metadata": {},
   "outputs": [],
   "source": [
    "from functools import reduce\n",
    "from operator import *\n",
    "\n",
    "def arithmetic_operation(a):\n",
    "    kw = {\"+\" : add, \"-\" : sub, \"*\" : mul, \"/\" : truediv}\n",
    "    \n",
    "    def ao(x, y):\n",
    "        return kw[a](x, y)\n",
    "        \n",
    "    return ao"
   ]
  },
  {
   "cell_type": "markdown",
   "id": "d6db2296-9b5d-4e0c-81c1-af2af08b9172",
   "metadata": {},
   "source": [
    "11. Write a program that reads IP addresses and outputs them in ascending order according to their decimal representation."
   ]
  },
  {
   "cell_type": "code",
   "execution_count": 13,
   "id": "f6fab7a2-bdde-45ea-8e94-b28992caaeeb",
   "metadata": {
    "collapsed": true,
    "jupyter": {
     "outputs_hidden": true
    }
   },
   "outputs": [
    {
     "name": "stdin",
     "output_type": "stream",
     "text": [
      " 112.33.555.2\n"
     ]
    },
    {
     "ename": "ValueError",
     "evalue": "invalid literal for int() with base 10: '112.33.555.2'",
     "output_type": "error",
     "traceback": [
      "\u001b[0;31m---------------------------------------------------------------------------\u001b[0m",
      "\u001b[0;31mValueError\u001b[0m                                Traceback (most recent call last)",
      "Cell \u001b[0;32mIn[13], line 8\u001b[0m\n\u001b[1;32m      5\u001b[0m     digip \u001b[38;5;241m=\u001b[39m \u001b[38;5;28mmap\u001b[39m(\u001b[38;5;28;01mlambda\u001b[39;00m x, y: \u001b[38;5;28mint\u001b[39m(x) \u001b[38;5;241m*\u001b[39m \u001b[38;5;241m256\u001b[39m \u001b[38;5;241m*\u001b[39m\u001b[38;5;241m*\u001b[39m \u001b[38;5;28mint\u001b[39m(y), ip\u001b[38;5;241m.\u001b[39msplit(\u001b[38;5;124m\"\u001b[39m\u001b[38;5;124m.\u001b[39m\u001b[38;5;124m\"\u001b[39m), \u001b[38;5;28mlist\u001b[39m(\u001b[38;5;28mrange\u001b[39m(\u001b[38;5;241m3\u001b[39m, \u001b[38;5;241m-\u001b[39m\u001b[38;5;241m1\u001b[39m, \u001b[38;5;241m-\u001b[39m\u001b[38;5;241m1\u001b[39m)))\n\u001b[1;32m      6\u001b[0m     \u001b[38;5;28;01mreturn\u001b[39;00m reduce(add, digip, \u001b[38;5;241m0\u001b[39m)\n\u001b[0;32m----> 8\u001b[0m a \u001b[38;5;241m=\u001b[39m [\u001b[38;5;28minput\u001b[39m() \u001b[38;5;28;01mfor\u001b[39;00m _ \u001b[38;5;129;01min\u001b[39;00m \u001b[38;5;28mrange\u001b[39m(\u001b[38;5;28;43mint\u001b[39;49m\u001b[43m(\u001b[49m\u001b[38;5;28;43minput\u001b[39;49m\u001b[43m(\u001b[49m\u001b[43m)\u001b[49m\u001b[43m)\u001b[49m)]\n\u001b[1;32m     10\u001b[0m \u001b[38;5;28mprint\u001b[39m(\u001b[38;5;241m*\u001b[39m\u001b[38;5;28msorted\u001b[39m(a, key\u001b[38;5;241m=\u001b[39mdespr), sep\u001b[38;5;241m=\u001b[39m\u001b[38;5;124m\"\u001b[39m\u001b[38;5;130;01m\\n\u001b[39;00m\u001b[38;5;124m\"\u001b[39m)\n",
      "\u001b[0;31mValueError\u001b[0m: invalid literal for int() with base 10: '112.33.555.2'"
     ]
    }
   ],
   "source": [
    "from functools import reduce\n",
    "from operator import *\n",
    "\n",
    "def despr(ip):\n",
    "    digip = map(lambda x, y: int(x) * 256 ** int(y), ip.split(\".\"), list(range(3, -1, -1)))\n",
    "    return reduce(add, digip, 0)\n",
    "\n",
    "a = [input() for _ in range(int(input()))]\n",
    "\n",
    "print(*sorted(a, key=despr), sep=\"\\n\")"
   ]
  }
 ],
 "metadata": {
  "kernelspec": {
   "display_name": "Python 3 (ipykernel)",
   "language": "python",
   "name": "python3"
  },
  "language_info": {
   "codemirror_mode": {
    "name": "ipython",
    "version": 3
   },
   "file_extension": ".py",
   "mimetype": "text/x-python",
   "name": "python",
   "nbconvert_exporter": "python",
   "pygments_lexer": "ipython3",
   "version": "3.10.13"
  }
 },
 "nbformat": 4,
 "nbformat_minor": 5
}
