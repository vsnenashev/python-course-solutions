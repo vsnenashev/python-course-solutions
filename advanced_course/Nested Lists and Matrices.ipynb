{
 "cells": [
  {
   "cell_type": "markdown",
   "id": "1f033303-a49c-4057-b26d-2eafd1836dbb",
   "metadata": {},
   "source": [
    "# Nested Lists and Matrices"
   ]
  },
  {
   "cell_type": "markdown",
   "id": "74690b3f-9cf1-4a6c-8bf5-3415005f8dfc",
   "metadata": {},
   "source": [
    "## Nested lists. Problems"
   ]
  },
  {
   "cell_type": "markdown",
   "id": "cf0fec57-9e98-4c85-9ac5-43e4ac20edea",
   "metadata": {},
   "source": [
    "3. The program receives a number n as input. Write a program that returns the specified row of Pascal's triangle as a list (row numbering starts from zero).."
   ]
  },
  {
   "cell_type": "code",
   "execution_count": 1,
   "id": "1c928b37-48e5-40ce-adf6-c9304b5d8b29",
   "metadata": {},
   "outputs": [
    {
     "name": "stdin",
     "output_type": "stream",
     "text": [
      " 5\n"
     ]
    },
    {
     "name": "stdout",
     "output_type": "stream",
     "text": [
      "[1, 5, 10, 10, 5, 1]\n"
     ]
    }
   ],
   "source": [
    "from math import *\n",
    "\n",
    "def pascal(n):\n",
    "    nk = []\n",
    "    \n",
    "    for k in range(n + 1):\n",
    "        cnk = factorial(n)/(factorial(k) * factorial(n - k))\n",
    "        nk.append(int(cnk))\n",
    "    return nk\n",
    "\n",
    "print(pascal(int(input())))"
   ]
  },
  {
   "cell_type": "markdown",
   "id": "a6d24133-c935-41ae-9917-0a6710722c04",
   "metadata": {},
   "source": [
    "5. The program receives a string of text containing characters as input. Write a program that packs sequences of identical characters in the given string into sublists."
   ]
  },
  {
   "cell_type": "code",
   "execution_count": 2,
   "id": "98d56a4a-beaf-48dc-a5b4-72bee3285e79",
   "metadata": {},
   "outputs": [
    {
     "name": "stdin",
     "output_type": "stream",
     "text": [
      " a b c d\n"
     ]
    },
    {
     "name": "stdout",
     "output_type": "stream",
     "text": [
      "[['a'], ['b'], ['c'], ['d']]\n"
     ]
    }
   ],
   "source": [
    "n = input().split()\n",
    "m = [[n[0]]]\n",
    "\n",
    "for i in range(1, len(n)):\n",
    "    \n",
    "    if n[i] != n[i - 1]:\n",
    "        m.append([n[i]])\n",
    "    else:\n",
    "        m[-1].append(n[i])\n",
    "        \n",
    "print(m)"
   ]
  },
  {
   "cell_type": "markdown",
   "id": "1b51f5a3-33d2-457c-a71f-55239410008d",
   "metadata": {},
   "source": [
    "7. The program receives a string of text containing characters as input. From this string, a list is formed. Write a program that outputs a list containing all possible sublists of the list, including the empty sublist."
   ]
  },
  {
   "cell_type": "code",
   "execution_count": 3,
   "id": "999c7a4b-6128-4eb4-84cb-38ec4c11421b",
   "metadata": {},
   "outputs": [
    {
     "name": "stdin",
     "output_type": "stream",
     "text": [
      "  a b n j j\n"
     ]
    },
    {
     "name": "stdout",
     "output_type": "stream",
     "text": [
      "[[], ['a'], ['b'], ['n'], ['j'], ['j'], ['a', 'b'], ['b', 'n'], ['n', 'j'], ['j', 'j'], ['a', 'b', 'n'], ['b', 'n', 'j'], ['n', 'j', 'j'], ['a', 'b', 'n', 'j'], ['b', 'n', 'j', 'j'], ['a', 'b', 'n', 'j', 'j']]\n"
     ]
    }
   ],
   "source": [
    "n = input().split()\n",
    "\n",
    "res = []\n",
    "res.append([])\n",
    "k = []\n",
    "\n",
    "for i in range(1, len(n) + 1):\n",
    "    \n",
    "    for j in range(len(n) + 1 - i):\n",
    "        res.append(n[j:i + j])\n",
    "    \n",
    "print(res)"
   ]
  },
  {
   "cell_type": "markdown",
   "id": "72d4918a-5df5-4aaf-b210-c1955b419415",
   "metadata": {},
   "source": [
    "## Martices. Problems"
   ]
  },
  {
   "cell_type": "markdown",
   "id": "bd59c331-8615-4f0b-96a8-1b83e6210739",
   "metadata": {},
   "source": [
    "### Part 1"
   ]
  },
  {
   "cell_type": "markdown",
   "id": "50c44f3b-46e0-45f1-9130-98a3a508e1a0",
   "metadata": {},
   "source": [
    "3. The trace of a square matrix is defined as the sum of the elements on the main diagonal. Write a program that outputs the trace of a given square matrix."
   ]
  },
  {
   "cell_type": "code",
   "execution_count": 5,
   "id": "1049ed20-9f74-43c8-8453-5dce1adcfe40",
   "metadata": {},
   "outputs": [
    {
     "name": "stdin",
     "output_type": "stream",
     "text": [
      " 3\n",
      " 4 5 6\n",
      " 47 8 5\n",
      " 2 3 7 \n"
     ]
    },
    {
     "name": "stdout",
     "output_type": "stream",
     "text": [
      "19\n"
     ]
    }
   ],
   "source": [
    "n = int(input())\n",
    "\n",
    "matrix = []\n",
    "for i in range(n):\n",
    "    \n",
    "    temp = [int(num) for num in input().split()]\n",
    "    matrix.append(temp)\n",
    "\n",
    "tr = 0   \n",
    "for i in range(n):\n",
    "    tr += matrix[i][i]\n",
    "    \n",
    "print(tr)"
   ]
  },
  {
   "cell_type": "markdown",
   "id": "42650c46-0410-4cd5-b57d-469192bf8dd0",
   "metadata": {},
   "source": [
    "6. Write a program that outputs the maximum element in the shaded region of a square matrix."
   ]
  },
  {
   "cell_type": "code",
   "execution_count": 6,
   "id": "62a4200c-609e-49d7-a66b-ce4210c1db55",
   "metadata": {},
   "outputs": [
    {
     "name": "stdin",
     "output_type": "stream",
     "text": [
      " 2\n",
      " 6 0 \n",
      " 7 9\n"
     ]
    },
    {
     "name": "stdout",
     "output_type": "stream",
     "text": [
      "9\n"
     ]
    }
   ],
   "source": [
    "n = int(input())\n",
    "m = []\n",
    "\n",
    "for i in range(n):\n",
    "    \n",
    "    temp = [int(num) for num in input().split()]\n",
    "    m.append(temp)\n",
    "\n",
    "mx = -1000\n",
    "for i in range(n):\n",
    "    for j in range(n):\n",
    "        if (i - j) * (i + j + 1 - n) <= 0 and m[i][j] > mx:\n",
    "            mx = m[i][j]\n",
    "print(mx)"
   ]
  },
  {
   "cell_type": "markdown",
   "id": "33327092-c5f6-49a7-b97e-09ff7cc38dfb",
   "metadata": {},
   "source": [
    "### Part 2 "
   ]
  },
  {
   "cell_type": "markdown",
   "id": "ff0f74b8-2216-498b-810d-f3041280aa68",
   "metadata": {},
   "source": [
    "3. Write a program that swaps columns in a matrix.\n"
   ]
  },
  {
   "cell_type": "code",
   "execution_count": 7,
   "id": "884e9362-254a-4a4e-8dec-4ac27793881a",
   "metadata": {},
   "outputs": [
    {
     "name": "stdin",
     "output_type": "stream",
     "text": [
      " 2\n",
      " 2\n",
      " 1 2\n",
      " 2 4\n",
      " 0 1\n"
     ]
    },
    {
     "name": "stdout",
     "output_type": "stream",
     "text": [
      "2 1 \n",
      "4 2 \n"
     ]
    }
   ],
   "source": [
    "n = int(input())\n",
    "m = int(input())\n",
    "mat = []\n",
    "\n",
    "for i in range(n):\n",
    "    temp = [int(num) for num in  input().split()]\n",
    "    mat.append(temp)\n",
    "\n",
    "p = [int(num) for num in  input().split()]\n",
    "\n",
    "for i in range(n):\n",
    "    mat[i][p[0]], mat[i][p[1]] = mat[i][p[1]], mat[i][p[0]]\n",
    "    \n",
    "for r in range(n):\n",
    "    for c in range(m):\n",
    "        print(mat[r][c], end=' ')\n",
    "    print()"
   ]
  },
  {
   "cell_type": "markdown",
   "id": "35925051-c997-47e9-bc42-63dd80e99635",
   "metadata": {},
   "source": [
    "5. Given a square matrix of numbers. Write a program that swaps the elements standing on the main and secondary diagonals, while each element should remain in the same column (meaning, in each column, swap the element on the main diagonal with the one on the secondary diagonal)."
   ]
  },
  {
   "cell_type": "code",
   "execution_count": 8,
   "id": "1901fa33-d803-44f4-9045-890088c56fcb",
   "metadata": {},
   "outputs": [
    {
     "name": "stdin",
     "output_type": "stream",
     "text": [
      " 2\n",
      " 1 2\n",
      " 4 5\n"
     ]
    },
    {
     "name": "stdout",
     "output_type": "stream",
     "text": [
      "4 5 \n",
      "1 2 \n"
     ]
    }
   ],
   "source": [
    "n = int(input())\n",
    "mat = []\n",
    "\n",
    "for i in range(n):\n",
    "    temp = [int(num) for num in  input().split()]\n",
    "    mat.append(temp)\n",
    "  \n",
    "for i in range(n):\n",
    "    mat[i][i], mat[- i - 1][i] = mat[- i - 1][i], mat[i][i]\n",
    "\n",
    "for r in range(n):\n",
    "        for c in range(n):\n",
    "            print(mat[r][c], end=' ')\n",
    "        print()"
   ]
  },
  {
   "cell_type": "markdown",
   "id": "e06a5df1-f027-4f95-a8ec-aaa392ded6b6",
   "metadata": {},
   "source": [
    "6. Write a program that rotates a square matrix of numbers by 90 degrees clockwise."
   ]
  },
  {
   "cell_type": "code",
   "execution_count": 9,
   "id": "af7c50e6-6eed-45af-9f1b-edbb48a359a6",
   "metadata": {},
   "outputs": [
    {
     "name": "stdin",
     "output_type": "stream",
     "text": [
      " 2\n",
      " 3 1\n",
      " 4 2\n"
     ]
    },
    {
     "name": "stdout",
     "output_type": "stream",
     "text": [
      "4 3 \n",
      "2 1 \n"
     ]
    }
   ],
   "source": [
    "n = int(input())\n",
    "mat = []\n",
    "\n",
    "for i in range(n):\n",
    "    temp = [int(num) for num in  input().split()]\n",
    "    mat.append(temp)\n",
    "    \n",
    "mat.reverse()\n",
    "\n",
    "for r in range(n):\n",
    "        for c in range(n):\n",
    "            print(mat[c][r], end=' ')\n",
    "            \n",
    "        print()"
   ]
  },
  {
   "cell_type": "markdown",
   "id": "7849d238-db62-439f-8a41-bdff872c6cab",
   "metadata": {},
   "source": [
    "### Part 3 "
   ]
  },
  {
   "cell_type": "markdown",
   "id": "c2afd4a4-6349-4675-93a1-24290dbc2433",
   "metadata": {},
   "source": [
    "8. The program receives two natural numbers n and m as input. Write a program that creates an n×m matrix, filling it in a 'snake-like' pattern."
   ]
  },
  {
   "cell_type": "code",
   "execution_count": 11,
   "id": "341d4891-f470-47bc-a95a-c1324d92789a",
   "metadata": {},
   "outputs": [
    {
     "name": "stdin",
     "output_type": "stream",
     "text": [
      " 5 6\n"
     ]
    },
    {
     "name": "stdout",
     "output_type": "stream",
     "text": [
      "1   2   3   4   5   6  \n",
      "12  11  10  9   8   7  \n",
      "13  14  15  16  17  18 \n",
      "24  23  22  21  20  19 \n",
      "25  26  27  28  29  30 \n"
     ]
    }
   ],
   "source": [
    "n, m = [int(i) for i in input().split()]\n",
    "num = [str(i) for i in range(1, n * m + 1)]\n",
    "\n",
    "for i in range(n):\n",
    "    str = [i.ljust(3) for i in num[i * m: (i + 1) * m]]\n",
    "    \n",
    "    if i % 2 == 0:\n",
    "        print(*str)\n",
    "    else:\n",
    "        str.reverse()\n",
    "        print(*str)"
   ]
  },
  {
   "cell_type": "markdown",
   "id": "685245b2-e35d-490d-9166-b9ddda17f786",
   "metadata": {},
   "source": [
    "9. The program receives two natural numbers n and m as input. Write a program that creates an n×m matrix, filling it in a diagonal pattern."
   ]
  },
  {
   "cell_type": "code",
   "execution_count": 12,
   "id": "adb64c05-1dd6-4f38-ab67-7fe9951165f2",
   "metadata": {
    "collapsed": true,
    "jupyter": {
     "outputs_hidden": true
    }
   },
   "outputs": [
    {
     "name": "stdin",
     "output_type": "stream",
     "text": [
      " 5 6\n"
     ]
    },
    {
     "ename": "TypeError",
     "evalue": "'list' object is not callable",
     "output_type": "error",
     "traceback": [
      "\u001b[0;31m---------------------------------------------------------------------------\u001b[0m",
      "\u001b[0;31mTypeError\u001b[0m                                 Traceback (most recent call last)",
      "Cell \u001b[0;32mIn[12], line 2\u001b[0m\n\u001b[1;32m      1\u001b[0m n, m \u001b[38;5;241m=\u001b[39m [\u001b[38;5;28mint\u001b[39m(i) \u001b[38;5;28;01mfor\u001b[39;00m i \u001b[38;5;129;01min\u001b[39;00m \u001b[38;5;28minput\u001b[39m()\u001b[38;5;241m.\u001b[39msplit()]\n\u001b[0;32m----> 2\u001b[0m num \u001b[38;5;241m=\u001b[39m [\u001b[38;5;28mstr\u001b[39m(i) \u001b[38;5;28;01mfor\u001b[39;00m i \u001b[38;5;129;01min\u001b[39;00m \u001b[38;5;28mrange\u001b[39m(\u001b[38;5;241m1\u001b[39m, n \u001b[38;5;241m*\u001b[39m m \u001b[38;5;241m+\u001b[39m \u001b[38;5;241m1\u001b[39m)]\n\u001b[1;32m      3\u001b[0m mat \u001b[38;5;241m=\u001b[39m [[\u001b[38;5;241m0\u001b[39m] \u001b[38;5;241m*\u001b[39m m \u001b[38;5;28;01mfor\u001b[39;00m _ \u001b[38;5;129;01min\u001b[39;00m \u001b[38;5;28mrange\u001b[39m(n)]\n\u001b[1;32m      5\u001b[0m \u001b[38;5;28;01mfor\u001b[39;00m n1 \u001b[38;5;129;01min\u001b[39;00m \u001b[38;5;28mrange\u001b[39m(n \u001b[38;5;241m+\u001b[39m m):\n",
      "Cell \u001b[0;32mIn[12], line 2\u001b[0m, in \u001b[0;36m<listcomp>\u001b[0;34m(.0)\u001b[0m\n\u001b[1;32m      1\u001b[0m n, m \u001b[38;5;241m=\u001b[39m [\u001b[38;5;28mint\u001b[39m(i) \u001b[38;5;28;01mfor\u001b[39;00m i \u001b[38;5;129;01min\u001b[39;00m \u001b[38;5;28minput\u001b[39m()\u001b[38;5;241m.\u001b[39msplit()]\n\u001b[0;32m----> 2\u001b[0m num \u001b[38;5;241m=\u001b[39m [\u001b[38;5;28;43mstr\u001b[39;49m\u001b[43m(\u001b[49m\u001b[43mi\u001b[49m\u001b[43m)\u001b[49m \u001b[38;5;28;01mfor\u001b[39;00m i \u001b[38;5;129;01min\u001b[39;00m \u001b[38;5;28mrange\u001b[39m(\u001b[38;5;241m1\u001b[39m, n \u001b[38;5;241m*\u001b[39m m \u001b[38;5;241m+\u001b[39m \u001b[38;5;241m1\u001b[39m)]\n\u001b[1;32m      3\u001b[0m mat \u001b[38;5;241m=\u001b[39m [[\u001b[38;5;241m0\u001b[39m] \u001b[38;5;241m*\u001b[39m m \u001b[38;5;28;01mfor\u001b[39;00m _ \u001b[38;5;129;01min\u001b[39;00m \u001b[38;5;28mrange\u001b[39m(n)]\n\u001b[1;32m      5\u001b[0m \u001b[38;5;28;01mfor\u001b[39;00m n1 \u001b[38;5;129;01min\u001b[39;00m \u001b[38;5;28mrange\u001b[39m(n \u001b[38;5;241m+\u001b[39m m):\n",
      "\u001b[0;31mTypeError\u001b[0m: 'list' object is not callable"
     ]
    }
   ],
   "source": [
    "n, m = [int(i) for i in input().split()]\n",
    "num = [str(i) for i in range(1, n * m + 1)]\n",
    "mat = [[0] * m for _ in range(n)]\n",
    "\n",
    "for n1 in range(n + m):\n",
    "    for i in range(n):\n",
    "        for j in range(m):\n",
    "            if i + j + 1 == n1:\n",
    "                mat[i][j] = str(num.pop(0)).ljust(3)\n",
    "                \n",
    "for row in mat:\n",
    "    print(*row)"
   ]
  },
  {
   "cell_type": "markdown",
   "id": "024983a1-e39c-4607-8c93-108a61a3291c",
   "metadata": {},
   "source": [
    "9. The program receives two natural numbers n and m as input. Write a program that creates an n×m matrix, filling it in a spiral pattern."
   ]
  },
  {
   "cell_type": "code",
   "execution_count": 15,
   "id": "742357c7-3017-4c62-a2d6-1433ee9ddf30",
   "metadata": {
    "collapsed": true,
    "jupyter": {
     "outputs_hidden": true
    }
   },
   "outputs": [
    {
     "name": "stdin",
     "output_type": "stream",
     "text": [
      " 56 3\n"
     ]
    },
    {
     "ename": "IndexError",
     "evalue": "pop from empty list",
     "output_type": "error",
     "traceback": [
      "\u001b[0;31m---------------------------------------------------------------------------\u001b[0m",
      "\u001b[0;31mIndexError\u001b[0m                                Traceback (most recent call last)",
      "Cell \u001b[0;32mIn[15], line 21\u001b[0m\n\u001b[1;32m     18\u001b[0m     mat[highn][j] \u001b[38;5;241m=\u001b[39m num\u001b[38;5;241m.\u001b[39mpop(\u001b[38;5;241m0\u001b[39m)\n\u001b[1;32m     20\u001b[0m \u001b[38;5;28;01mfor\u001b[39;00m i \u001b[38;5;129;01min\u001b[39;00m \u001b[38;5;28mrange\u001b[39m(highn, lown, \u001b[38;5;241m-\u001b[39m\u001b[38;5;241m1\u001b[39m):\n\u001b[0;32m---> 21\u001b[0m     mat[i][lowm] \u001b[38;5;241m=\u001b[39m \u001b[43mnum\u001b[49m\u001b[38;5;241;43m.\u001b[39;49m\u001b[43mpop\u001b[49m\u001b[43m(\u001b[49m\u001b[38;5;241;43m0\u001b[39;49m\u001b[43m)\u001b[49m\n\u001b[1;32m     23\u001b[0m lown \u001b[38;5;241m+\u001b[39m\u001b[38;5;241m=\u001b[39m \u001b[38;5;241m1\u001b[39m\n\u001b[1;32m     24\u001b[0m lowm \u001b[38;5;241m+\u001b[39m\u001b[38;5;241m=\u001b[39m \u001b[38;5;241m1\u001b[39m\n",
      "\u001b[0;31mIndexError\u001b[0m: pop from empty list"
     ]
    }
   ],
   "source": [
    "n, m = [int(i) for i in input().split()]\n",
    "\n",
    "mat = [[n * m] * m for _ in range(n)]\n",
    "num = [i for i in range(1, n * m + 1)]\n",
    "lown, lowm, highn, highm = 0, 0, n - 1, m - 1\n",
    "kol = (min(n, m) + 1) // 2\n",
    "\n",
    "if n != 1 and m != 1:\n",
    "    for _ in range(kol):\n",
    "        \n",
    "        for j in range(lowm, highm):\n",
    "            mat[lown][j] = num.pop(0)\n",
    "            \n",
    "        for i in range(lown, highn):\n",
    "            mat[i][highm] = num.pop(0)\n",
    "            \n",
    "        for j in range(highm, lowm, -1):\n",
    "            mat[highn][j] = num.pop(0)\n",
    "            \n",
    "        for i in range(highn, lown, -1):\n",
    "            mat[i][lowm] = num.pop(0)\n",
    "            \n",
    "        lown += 1\n",
    "        lowm += 1\n",
    "        highn -= 1\n",
    "        highm -= 1\n",
    "\n",
    "    for a in mat:\n",
    "        for b in a:\n",
    "            print(str(b).ljust(3), end=\" \")\n",
    "        print()\n",
    "\n",
    "else:\n",
    "    \n",
    "    if n == 1:\n",
    "        mat = list(range(1, m + 1))\n",
    "        print(*mat)\n",
    "    elif m == 1:\n",
    "        mat = list(range(1, n +1))\n",
    "        print(*mat, sep=\"\\n\")"
   ]
  },
  {
   "cell_type": "markdown",
   "id": "d8457bfe-d3fd-432b-9648-e7f7d5bad053",
   "metadata": {},
   "source": [
    "# Final work on nested lists and matrices"
   ]
  },
  {
   "cell_type": "markdown",
   "id": "2dcf3d26-27ef-493b-921b-7862e45c29df",
   "metadata": {},
   "source": [
    "3. Write a program that transposes a square matrix.\n"
   ]
  },
  {
   "cell_type": "code",
   "execution_count": null,
   "id": "fac8f7cd-5f1f-4e90-a631-55d23234fc63",
   "metadata": {},
   "outputs": [],
   "source": [
    "n = int(input())\n",
    "mat = []\n",
    "\n",
    "for i in range(n):\n",
    "    temp = [int(num) for num in  input().split()]\n",
    "    mat.append(temp)\n",
    "\n",
    "for i in range(n):\n",
    "    for j in range(n):\n",
    "        print(mat[j][i], end=\" \")\n",
    "    print()"
   ]
  },
  {
   "cell_type": "markdown",
   "id": "3c1f02e4-619c-46d2-a5a5-bac280bd9a47",
   "metadata": {},
   "source": [
    "7. On a chessboard of size 8x8, a queen is placed. Mark the position of the queen on the board and all the cells that the queen attacks. Mark the cell where the queen stands with the letter Q, mark the cells that the queen attacks with *, and fill the rest of the cells with dots."
   ]
  },
  {
   "cell_type": "code",
   "execution_count": null,
   "id": "6d9d0723-bc79-4829-9f5c-bad745a6b0fe",
   "metadata": {},
   "outputs": [],
   "source": [
    "ind = input()\n",
    "\n",
    "indx = []\n",
    "indx.extend(ind)\n",
    "y, x = indx\n",
    "\n",
    "y = ord(y) - 97\n",
    "x = 8 - int(x)\n",
    "\n",
    "mat = [[\".\"] * 8 for _ in range(8)]\n",
    "\n",
    "for i in range(8):\n",
    "    for j in range(8):\n",
    "        if i == y or j == x or abs(y - i) == abs(x - j):\n",
    "            mat[i][j] = \"*\"\n",
    "\n",
    "mat[y][x] = \"Q\"\n",
    "for r in range(8):\n",
    "        for c in range(8):\n",
    "            print(mat[c][r], end=' ')\n",
    "\n",
    "        print()"
   ]
  }
 ],
 "metadata": {
  "kernelspec": {
   "display_name": "Python 3 (ipykernel)",
   "language": "python",
   "name": "python3"
  },
  "language_info": {
   "codemirror_mode": {
    "name": "ipython",
    "version": 3
   },
   "file_extension": ".py",
   "mimetype": "text/x-python",
   "name": "python",
   "nbconvert_exporter": "python",
   "pygments_lexer": "ipython3",
   "version": "3.10.13"
  }
 },
 "nbformat": 4,
 "nbformat_minor": 5
}
