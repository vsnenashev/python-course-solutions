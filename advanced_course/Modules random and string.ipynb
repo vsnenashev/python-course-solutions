{
 "cells": [
  {
   "cell_type": "markdown",
   "id": "6d508a45-a151-45c4-98e1-91b1fbe74b1e",
   "metadata": {},
   "source": [
    "# Modules random and string\n"
   ]
  },
  {
   "cell_type": "markdown",
   "id": "d18d8d36-92c1-4da1-9e2d-47b9a5e6eeca",
   "metadata": {},
   "source": [
    "## Module random"
   ]
  },
  {
   "cell_type": "markdown",
   "id": "ee5a6434-28e7-455a-a2ab-8dc4f60f1d62",
   "metadata": {},
   "source": [
    "6. Write a program that generates and prints a random bingo card using the random module."
   ]
  },
  {
   "cell_type": "code",
   "execution_count": 60,
   "id": "1f5f7565-50f8-497b-adfc-b59cf5e6973f",
   "metadata": {
    "collapsed": true,
    "jupyter": {
     "outputs_hidden": true
    }
   },
   "outputs": [
    {
     "name": "stdin",
     "output_type": "stream",
     "text": [
      " bflkfbofovkfofk5\n"
     ]
    },
    {
     "name": "stdout",
     "output_type": "stream",
     "text": [
      "Цифра\n"
     ]
    }
   ],
   "source": [
    "from random import *\n",
    "\n",
    "a = set()\n",
    "b = list()\n",
    "\n",
    "while len(a) < 25:\n",
    "    a.add(randint(1, 75))\n",
    "al = list(a)\n",
    "shuffle(al)\n",
    "\n",
    "for i in range(5):\n",
    "    b.append(al[i*5 : i*5 +5])\n",
    "\n",
    "b[2][2] = 0\n",
    "\n",
    "for row in b:\n",
    "    for el in row:\n",
    "        print(str(el).ljust(3), end=\" \")\n",
    "    print()"
   ]
  },
  {
   "cell_type": "markdown",
   "id": "957b2dd2-3fcb-4878-beab-e0a2493094a9",
   "metadata": {},
   "source": [
    "7. Write a program that randomly assigns each student their secret friend, who will solve programming problems together with them.\n"
   ]
  },
  {
   "cell_type": "code",
   "execution_count": 61,
   "id": "7f769794-eb5d-46b0-a55f-160aade909a0",
   "metadata": {},
   "outputs": [
    {
     "name": "stdin",
     "output_type": "stream",
     "text": [
      " sdsdfdsfnksdnfcksdfjsdijfvdddddoodvj\n"
     ]
    },
    {
     "name": "stdout",
     "output_type": "stream",
     "text": [
      "5\n"
     ]
    }
   ],
   "source": [
    "from random import * \n",
    "\n",
    "s = [input() for _ in range(int(input()))]\n",
    "l = []\n",
    "\n",
    "while len(l) < len(s):\n",
    "    k = choice(s)\n",
    "    if k != s[len(l)] and k not in l:\n",
    "        l.append(k)\n",
    "    elif len(l) == len(s) - 1 and k == s[len(l)] and k not in l:\n",
    "        l.append(k)\n",
    "        l[-1], l[-2] = l[-2], l[-1]\n",
    "\n",
    "for i in range(len(s)):\n",
    "    print(f\"{s[i]} - {l[i]}\")"
   ]
  },
  {
   "cell_type": "markdown",
   "id": "b469b67f-fe76-42e1-a967-7af3458a3b5c",
   "metadata": {},
   "source": [
    "9. Write a program that generates n passwords of length m characters using the random module. The passwords should consist of lowercase and uppercase English letters and digits, excluding those that can be easily confused:\n",
    "\n",
    "- \"l\" (lowercase L)\n",
    "- \"I\" (uppercase I)\n",
    "- \"1\" (digit)\n",
    "- \"o\" and \"O\" (uppercase and lowercase letters)\n",
    "- \"0\" (digit)\n",
    "\n",
    "Additional condition: each password must contain at least one digit and at least one letter in uppercase and lowercase."
   ]
  },
  {
   "cell_type": "code",
   "execution_count": 62,
   "id": "782ce99b-f2b6-4485-b49e-c16cbc43ad51",
   "metadata": {},
   "outputs": [
    {
     "name": "stdin",
     "output_type": "stream",
     "text": [
      " 4587\n"
     ]
    },
    {
     "name": "stdout",
     "output_type": "stream",
     "text": [
      "1000111101011\n"
     ]
    }
   ],
   "source": [
    "from random import *\n",
    "dig = '23456789'\n",
    "l_let = 'abcdefghijkmnpqrstuvwxyz'\n",
    "up_let = 'ABCDEFGHJKLMNPQRSTUVWXYZ'\n",
    "chars = dig + l_let + up_let\n",
    "\n",
    "def generate_password(length):\n",
    "    pass1 = \"\"\n",
    "    for i in range(int(length)):\n",
    "        pass1 = pass1 + choice(chars)\n",
    "    return pass1\n",
    "\n",
    "def ispassval(pass1):\n",
    "    x = []\n",
    "    for el in pass1:\n",
    "        if el in dig:\n",
    "            x.append(el)\n",
    "            break\n",
    "    for el in pass1:   \n",
    "        if el in l_let:\n",
    "            x.append(el)\n",
    "            break\n",
    "    for el in pass1:\n",
    "        if el in up_let:\n",
    "            x.append(el)\n",
    "            break\n",
    "    return len(x) > 2\n",
    "\n",
    "def generate_passwords(count, length):\n",
    "    passl = []\n",
    "    while len(passl) < count:\n",
    "        p = generate_password(length)\n",
    "        if ispassval(p):\n",
    "            passl.append(p)\n",
    "    return passl\n",
    "\n",
    "n, m = int(input()), int(input())\n",
    "print(*generate_passwords(n, m), sep=\"\\n\")"
   ]
  },
  {
   "cell_type": "markdown",
   "id": "ed0afe2c-8051-494c-9895-20a45d71dcba",
   "metadata": {},
   "source": [
    "### Finding pi"
   ]
  },
  {
   "cell_type": "markdown",
   "id": "058c5b93-4ccb-477a-9c4f-227f04740807",
   "metadata": {},
   "source": [
    "11. Write a program that uses the Monte Carlo method to approximate the value of π.."
   ]
  },
  {
   "cell_type": "code",
   "execution_count": null,
   "id": "37e920a6-f9dc-4184-a3b7-24f25753ccfc",
   "metadata": {},
   "outputs": [],
   "source": [
    "from random import *\n",
    "\n",
    "n = 10**6\n",
    "k = 0\n",
    "s0 = 4\n",
    "for _ in range(n):\n",
    "    x = uniform(-1, 1)\n",
    "    y = uniform(-1, 1)\n",
    "\n",
    "    if x ** 2 + y ** 2 <= 1:\n",
    "        k += 1\n",
    "\n",
    "print((k/n)*s0)"
   ]
  }
 ],
 "metadata": {
  "kernelspec": {
   "display_name": "Python 3 (ipykernel)",
   "language": "python",
   "name": "python3"
  },
  "language_info": {
   "codemirror_mode": {
    "name": "ipython",
    "version": 3
   },
   "file_extension": ".py",
   "mimetype": "text/x-python",
   "name": "python",
   "nbconvert_exporter": "python",
   "pygments_lexer": "ipython3",
   "version": "3.10.13"
  }
 },
 "nbformat": 4,
 "nbformat_minor": 5
}
