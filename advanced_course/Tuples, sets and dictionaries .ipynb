{
 "cells": [
  {
   "cell_type": "markdown",
   "id": "abfa78d9-b4db-45b2-92c9-f1ddf437037e",
   "metadata": {},
   "source": [
    "# Tuples, sets and dictionaries "
   ]
  },
  {
   "cell_type": "markdown",
   "id": "3c68064d-b609-450e-8e9e-3e9e21b607a6",
   "metadata": {},
   "source": [
    "## Tuples basics"
   ]
  },
  {
   "cell_type": "markdown",
   "id": "3478dc25-34ea-4a08-831e-c7ab99c3a3d2",
   "metadata": {},
   "source": [
    "Reads a natural number n and prints the first n numbers of the Tribonacci sequence."
   ]
  },
  {
   "cell_type": "code",
   "execution_count": 5,
   "id": "29c58e54-ec02-482b-93f7-fb73b49f5a31",
   "metadata": {},
   "outputs": [
    {
     "name": "stdin",
     "output_type": "stream",
     "text": [
      " 12\n"
     ]
    },
    {
     "name": "stdout",
     "output_type": "stream",
     "text": [
      "1 1 1 3 5 9 17 31 57 105 193 355 "
     ]
    }
   ],
   "source": [
    "n = int(input())\n",
    "f1, f2, f3 = 1, 1, 1\n",
    "\n",
    "for i in range(n):\n",
    "    \n",
    "    print(f1, end=\" \")\n",
    "    f1, f2, f3 = f2, f3, f1 + f2 + f3"
   ]
  },
  {
   "cell_type": "markdown",
   "id": "77ba95d8-c795-4ac1-a62d-cff7ba3a4ef3",
   "metadata": {},
   "source": [
    "## Sets"
   ]
  },
  {
   "cell_type": "markdown",
   "id": "430376f5-abcf-428a-a0dd-d769bd062d05",
   "metadata": {},
   "source": [
    "### Set Operations, Euler-Venn Diagrams"
   ]
  },
  {
   "cell_type": "markdown",
   "id": "a340db8d-a748-49f8-98db-8d08bc8eeae6",
   "metadata": {},
   "source": [
    "2. Students from EK were assigned to read three books during the summer vacation. It turned out that n students read the first book, m students read the second book, and k students read the third book. It is also known that x students read the first or the second book, or both, y students read the second or the third book, or both, and z students read the first and the third book, or at least one of these two books. The task was fully completed by a students. The total number of students in the 10th grade is a. Write a program that inputs how many students:\n",
    "- read only one book\n",
    "- read only two books\n",
    "- did not read any of the recommended books рекомендованных книг"
   ]
  },
  {
   "cell_type": "code",
   "execution_count": 39,
   "id": "b0cd82cb-418e-43b2-82fa-820cfd6a45f1",
   "metadata": {},
   "outputs": [
    {
     "name": "stdin",
     "output_type": "stream",
     "text": [
      " 1\n",
      " 2\n",
      " 3\n"
     ]
    },
    {
     "name": "stdout",
     "output_type": "stream",
     "text": [
      "1 1\n",
      "2 1.02\n",
      "3 1.0404\n"
     ]
    }
   ],
   "source": [
    "n, m, k, x, y, z, t, a = [int(input()) for _ in range(8)]\n",
    "b = n + m - x - t\n",
    "c = m + k - y - t\n",
    "d = k + n - z - t\n",
    "print(n + m + k - 2*b - 2*c - 2*d - 3*t)\n",
    "print(b + c + d)\n",
    "print(a - (n + m + k - 2*b - 2*c - 2*d - 3*t) - (b + c + d) - t)"
   ]
  },
  {
   "cell_type": "markdown",
   "id": "f18d5e1f-16a8-4ad7-a704-b17d0ebdb270",
   "metadata": {},
   "source": [
    "### Set methods "
   ]
  },
  {
   "cell_type": "markdown",
   "id": "cbdf01a4-e9bc-4f89-944a-71a4607e5afb",
   "metadata": {},
   "source": [
    "3. Write a program to determine the total number of distinct words in a text string."
   ]
  },
  {
   "cell_type": "code",
   "execution_count": 40,
   "id": "6dae9ecc-c1d7-44d7-8cfa-b006b0b50c05",
   "metadata": {},
   "outputs": [
    {
     "name": "stdin",
     "output_type": "stream",
     "text": [
      " 1\n",
      " 2\n"
     ]
    },
    {
     "name": "stdout",
     "output_type": "stream",
     "text": [
      "1\n",
      "2\n"
     ]
    }
   ],
   "source": [
    "m = input().lower().split()\n",
    "\n",
    "for el in '.,;:-?!':\n",
    "    for i in range(len(m)):  \n",
    "        if el in m[i]:\n",
    "             m[i] = m[i].replace(el, \"\")\n",
    "            \n",
    "print(len(set(m)))"
   ]
  },
  {
   "cell_type": "markdown",
   "id": "901ed808-a1c6-4b59-8199-233e6dc0ca0e",
   "metadata": {},
   "source": [
    "8. The program receives a natural number n as input, followed by n distinct natural numbers, each on a separate line. Write a program that prints all common digits in ascending order from all the entered numbers."
   ]
  },
  {
   "cell_type": "code",
   "execution_count": 44,
   "id": "38385d10-30b7-4077-831e-830d5c3a9831",
   "metadata": {},
   "outputs": [
    {
     "name": "stdin",
     "output_type": "stream",
     "text": [
      " 5\n",
      " 13\n"
     ]
    }
   ],
   "source": [
    "n = int(input())\n",
    "m = []\n",
    "s = set()\n",
    "\n",
    "for i in range(n):\n",
    "    m.extend([[int(i) for i in input()]])\n",
    "    \n",
    "for i in range(n - 1):\n",
    "    s = set(m[i + 1]).intersection(set(m[i]))\n",
    "    m[i + 1] = list(s)\n",
    "    \n",
    "print(*sorted(list(s)))"
   ]
  },
  {
   "cell_type": "markdown",
   "id": "58dd563e-165f-445b-a0f3-d4d72fb2e958",
   "metadata": {},
   "source": [
    "## Dictionaries"
   ]
  },
  {
   "cell_type": "markdown",
   "id": "e9ab5fb2-3a91-4f76-a6bd-d9528bd99015",
   "metadata": {},
   "source": [
    "### Dictionary methods"
   ]
  },
  {
   "cell_type": "markdown",
   "id": "67c77de3-0cb5-4c74-a29f-06b5825f1a56",
   "metadata": {},
   "source": [
    "6. The program receives a text string as input. Write a program that prints the word that occurs least frequently, disregarding case. If there are several such words, print the one that comes first in lexicographical order."
   ]
  },
  {
   "cell_type": "code",
   "execution_count": 55,
   "id": "c88e6f39-4d26-4845-a3a0-9268a5b90d82",
   "metadata": {},
   "outputs": [
    {
     "name": "stdin",
     "output_type": "stream",
     "text": [
      " 9\n"
     ]
    },
    {
     "name": "stdout",
     "output_type": "stream",
     "text": [
      "*\n",
      "**\n",
      "***\n",
      "****\n",
      "*****\n",
      "****\n",
      "***\n",
      "**\n",
      "*\n"
     ]
    }
   ],
   "source": [
    "lst = sorted([word.strip('.,!?:;-') for word in input().lower().split()])\n",
    "dic = {}\n",
    "\n",
    "for el in lst:\n",
    "    dic[el] = dic.get(el, 0) + 1\n",
    "    \n",
    "for el in dic:\n",
    "    if dic[el] == min(dic.values()):\n",
    "        print(el)\n",
    "        break"
   ]
  },
  {
   "cell_type": "markdown",
   "id": "ebbb3648-b74d-4c85-b150-8b34b77431cc",
   "metadata": {},
   "source": [
    "7. The program receives a string containing identifier strings as input. Write a program that corrects them so that there are no duplicates in the resulting string. To do this, append the postfix _n to duplicate identifiers, where n is the number of times such an identifier has already occurred."
   ]
  },
  {
   "cell_type": "code",
   "execution_count": null,
   "id": "7136262e-1c74-461f-b184-42824e01f370",
   "metadata": {},
   "outputs": [],
   "source": [
    "lst = [word for word in input().lower().split()]\n",
    "dic = {}\n",
    "\n",
    "for el in lst:\n",
    "    dic[el] = dic.get(el, 0) + 1\n",
    "    if dic[el] == 1:\n",
    "        print(el, end=\" \")\n",
    "    elif dic[el] > 1:\n",
    "        print(f'{el}_{dic[el] - 1}', end=\" \")"
   ]
  },
  {
   "cell_type": "markdown",
   "id": "621b280b-36d2-482d-a3fc-4d243816d3c1",
   "metadata": {},
   "source": [
    "### Dictionary. Problems"
   ]
  },
  {
   "cell_type": "markdown",
   "id": "20883e3a-acd6-4a17-939e-e76bd2385d67",
   "metadata": {},
   "source": [
    "4. You are given a dictionary consisting of pairs of synonymous words. There are no duplicate words in the dictionary. Write a program that determines the synonym for a given word."
   ]
  },
  {
   "cell_type": "code",
   "execution_count": null,
   "id": "c053433e-8744-4138-a182-994f2702e980",
   "metadata": {},
   "outputs": [],
   "source": [
    "a = dict([tuple(input().split()) for _ in range(int(input()))])\n",
    "\n",
    "b = {a[key]: key for key in a}\n",
    "b.update(a)\n",
    "\n",
    "print(b[input()])"
   ]
  },
  {
   "cell_type": "markdown",
   "id": "66e89b22-9273-4174-bc8e-e187725f8482",
   "metadata": {},
   "source": [
    "9. Write a function merge() that merges dictionaries into one common dictionary. The function should take a list of dictionaries as input and return a dictionary, where each key contains a set (data type set) of unique values gathered from all dictionaries in the passed list."
   ]
  },
  {
   "cell_type": "code",
   "execution_count": 58,
   "id": "a0321f1c-97db-4a52-831f-84f02eea10e4",
   "metadata": {},
   "outputs": [
    {
     "name": "stdin",
     "output_type": "stream",
     "text": [
      " 58\n"
     ]
    },
    {
     "name": "stdout",
     "output_type": "stream",
     "text": [
      "4\n"
     ]
    }
   ],
   "source": [
    "def merge(values):\n",
    "    \n",
    "    mydict = {}\n",
    "    \n",
    "    for i in values:\n",
    "        for key in i:\n",
    "            mydict.setdefault(key, set()).add(i[key])\n",
    "            \n",
    "    return mydict"
   ]
  },
  {
   "cell_type": "markdown",
   "id": "bf59b5ae-f3f5-447c-911f-fc74874dc366",
   "metadata": {},
   "source": [
    "11. Write a program to count the quantity of each type of product purchased by each customer in an online store.\n"
   ]
  },
  {
   "cell_type": "code",
   "execution_count": null,
   "id": "cd9ecf4d-4c2e-44a1-8976-b2951ffce1c6",
   "metadata": {},
   "outputs": [],
   "source": [
    "d1 = {}\n",
    "\n",
    "for _ in range(int(input())):\n",
    "    \n",
    "    l = input().split()\n",
    "    a, b, c = l[0], l[1], int(l[2])\n",
    "    \n",
    "    if a not in d1:\n",
    "        d1[a] = d1.setdefault(a, {b: c})\n",
    "    else:\n",
    "        if b not in d1[a]:\n",
    "            d1[a].update({b: c})\n",
    "        else:\n",
    "            d1[a][b] = d1[a].get(b) + c"
   ]
  }
 ],
 "metadata": {
  "kernelspec": {
   "display_name": "Python 3 (ipykernel)",
   "language": "python",
   "name": "python3"
  },
  "language_info": {
   "codemirror_mode": {
    "name": "ipython",
    "version": 3
   },
   "file_extension": ".py",
   "mimetype": "text/x-python",
   "name": "python",
   "nbconvert_exporter": "python",
   "pygments_lexer": "ipython3",
   "version": "3.10.13"
  }
 },
 "nbformat": 4,
 "nbformat_minor": 5
}
